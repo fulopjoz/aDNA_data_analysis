{
 "cells": [
  {
   "cell_type": "markdown",
   "metadata": {},
   "source": [
    "# Outline"
   ]
  },
  {
   "cell_type": "markdown",
   "metadata": {},
   "source": [
    "  conda create -n ancient_dna_env python=3.8 biopython pandas matplotlib numpy jupyter ipython scipy seaborn -y\n"
   ]
  },
  {
   "cell_type": "markdown",
   "metadata": {},
   "source": [
    "1. Creating a Directory: Checks if an 'output' directory exists; if not, it creates one.\n",
    "\n",
    "2. Loading Data: Loads AmtDB metadata and sequence IDs from a specified FASTA file.\n",
    "\n",
    "3. Finding Missing Sequences: Identifies sequences present in AmtDB metadata but missing from the FASTA file.\n",
    "\n",
    "4. Loading a Mitochondrial Dataset: Loads a mitochondrial (mt) dataset's sequence IDs and metadata from specified files.\n",
    "\n",
    "5. Extracting and Saving Sequences: Extracts sequences that match specified IDs from a FASTA file and saves them to a new file.\n",
    "\n",
    "6. Matching and Saving Metadata: Matches metadata for specified IDs and saves it to a new CSV file.\n",
    "\n",
    "7. Main Workflow:\n",
    "    * Initializes the process by creating directories and loading initial datasets.\n",
    "    * Identifies sequences missing in the AmtDB dataset but available in the mitochondrial dataset.\n",
    "    * For sequences found, extracts these sequences and their metadata, saving them to the 'output' directory.\n",
    "    * Additionally, identifies sequences available in the mitochondrial dataset but not in the AmtDB, extracting and saving these as well.\n",
    "    * Completes the execution by indicating the results are in the 'output' directory."
   ]
  },
  {
   "cell_type": "markdown",
   "metadata": {},
   "source": [
    "Create folders 'data/amtDB' and 'data/mitogenomes_reich' and store there the input data which can be downloaded from:\n",
    "* https://reich.hms.harvard.edu/allen-ancient-dna-resource-aadr-downloadable-genotypes-present-day-and-ancient-dna-data\n",
    "* https://reichdata.hms.harvard.edu/pub/datasets/amh_repo/curated_releases/V54/V54.1.p1/SHARE/public.dir/index_v54.1.p1_MT.html\n",
    "* https://amtdb.org/"
   ]
  },
  {
   "cell_type": "code",
   "execution_count": 22,
   "metadata": {},
   "outputs": [
    {
     "name": "stdout",
     "output_type": "stream",
     "text": [
      "'output' directory already exists.\n",
      "\n",
      "Loading AmtDB metadata from 'data/amtDB/amtdb_metadata.csv' and sequence IDs from 'data/amtDB/amtdb_1621-samples_7f_a0pkh.fasta'...\n",
      "Loaded AmtDB metadata with 2541 records and 1621 sequences.\n",
      "\n",
      "Loading 'Reich mt dataset' from 'data/mitogenomes_reich/mtdna_reich.fasta' and metadata from 'data/mitogenomes_reich/v54.1.p1_1240K_public/v54.1.p1_1240K_public.anno'...\n",
      "Loaded 'Reich mt dataset' with 4122 sequences and metadata with 16388 records.\n",
      "\n",
      "Identifying sequences present in metadata but missing from the FASTA file...\n",
      "Found 920 missing sequences.\n",
      "\n",
      "Extracting sequences matching the specified IDs from 'data/mitogenomes_reich/mtdna_reich.fasta'...\n",
      "Saved 404 sequences to 'output/sequences_missing_in_AmtDB_404.fasta'.\n",
      "\n",
      "Matching metadata for the specified IDs and saving to 'output/metadata_for_sequences_missing_in_AmtDB.csv'...\n",
      "Saved metadata for 431 sequences to 'output/metadata_for_sequences_missing_in_AmtDB.csv'.\n",
      "\n",
      "Extracting sequences matching the specified IDs from 'data/mitogenomes_reich/mtdna_reich.fasta'...\n",
      "Saved 3004 sequences to 'output/sequences_not_present_in_AmtDB_2996.fasta'.\n",
      "\n",
      "Matching metadata for the specified IDs and saving to 'output/metadata_for_sequences_not_present_in_AmtDB.csv'...\n",
      "Saved metadata for 2854 sequences to 'output/metadata_for_sequences_not_present_in_AmtDB.csv'.\n",
      "\n",
      "Pipeline execution complete. Check the 'output' directory for results.\n",
      "\n"
     ]
    }
   ],
   "source": [
    "from Bio import SeqIO\n",
    "from collections import defaultdict\n",
    "import pandas as pd\n",
    "import os\n",
    "\n",
    "def create_directories():\n",
    "    \"\"\"\n",
    "    Creates 'output' directory if it does not exist.\n",
    "    \"\"\"\n",
    "    if not os.path.exists('output'):\n",
    "        print(\"Creating 'output' directory...\\n\")\n",
    "        os.makedirs('output')\n",
    "    elif not os.path.isdir('data/mitogenomes_reich'):\n",
    "        print\n",
    "        # comment: \n",
    "    else:\n",
    "        print(\"'output' directory already exists.\\n\")\n",
    "\n",
    "def load_data(metadata_file, fasta_file):\n",
    "    \"\"\"\n",
    "    Load AmtDB metadata and sequence IDs from the FASTA file.\n",
    "\n",
    "    Args:\n",
    "        metadata_file (str): Path to the AmtDB metadata file (e.g. 'amtdb_metadata.csv')\n",
    "        fasta_file (str): Path to the AmtDB FASTA file (e.g. 'amtdb_1621-samples_7f_a0pkh.fasta')\n",
    "\n",
    "    Returns:\n",
    "        meta_amtDB (DataFrame): AmtDB metadata\n",
    "        ids_seq_fasta (list): List of sequence IDs from the FASTA file (e.g. ['seq1', 'seq2', ...]\n",
    "    \"\"\"\n",
    "    print(f\"Loading AmtDB metadata from '{metadata_file}' and sequence IDs from '{fasta_file}'...\")\n",
    "    meta_amtDB = pd.read_csv(metadata_file, sep=',', header=0)\n",
    "    ids_seq_fasta = [seq_record.id for seq_record in SeqIO.parse(fasta_file, \"fasta\")]\n",
    "    print(f\"Loaded AmtDB metadata with {len(meta_amtDB)} records and {len(ids_seq_fasta)} sequences.\\n\")\n",
    "    return meta_amtDB, ids_seq_fasta\n",
    "\n",
    "def find_missing_sequences(meta_amtDB, ids_seq_fasta):\n",
    "    \"\"\"\n",
    "    Identifies sequences present in metadata but missing from the FASTA file.\n",
    "\n",
    "    Args:\n",
    "        meta_amtDB (DataFrame): AmtDB metadata\n",
    "        ids_seq_fasta (list): List of sequence IDs from the FASTA file (e.g. ['seq1', 'seq2', ...]\n",
    "\n",
    "    Returns:\n",
    "        missing_ids (list): List of sequence IDs present in metadata but missing from the FASTA file\n",
    "    \"\"\"\n",
    "    print(\"Identifying sequences present in metadata but missing from the FASTA file...\")\n",
    "    amtDB_ids = set(meta_amtDB['identifier'])\n",
    "    fasta_ids = set(ids_seq_fasta)\n",
    "    missing_ids = list(amtDB_ids.difference(fasta_ids))\n",
    "    print(f\"Found {len(missing_ids)} missing sequences.\\n\")\n",
    "    return missing_ids\n",
    "\n",
    "def load_mt_dataset(fasta_file, anno_file):\n",
    "    \"\"\"\n",
    "    Load the Reich mt dataset and metadata.\n",
    "\n",
    "    Args:\n",
    "        fasta_file (str): Path to the Reich mt dataset FASTA file (e.g. 'mtdna_reich.fasta')\n",
    "        anno_file (str): Path to the Reich mt dataset metadata file (e.g. 'v54.1.p1_1240K_public.anno')\n",
    "\n",
    "    Returns:\n",
    "        ids_mt_dataset (list): List of sequence IDs from the FASTA file (e.g. ['seq1', 'seq2', ...]\n",
    "        meta_mt_dataset (DataFrame): Reich mt dataset metadata\n",
    "    \"\"\"\n",
    "    print(f\"Loading 'Reich mt dataset' from '{fasta_file}' and metadata from '{anno_file}'...\")\n",
    "    ids_mt_dataset = [seq_record.id for seq_record in SeqIO.parse(fasta_file, \"fasta\")]\n",
    "    meta_mt_dataset = pd.read_csv(anno_file, sep='\\t', header=0, low_memory=False)\n",
    "    print(f\"Loaded 'Reich mt dataset' with {len(ids_mt_dataset)} sequences and metadata with {len(meta_mt_dataset)} records.\\n\")\n",
    "    return ids_mt_dataset, meta_mt_dataset\n",
    "\n",
    "def extract_and_save_sequences(fasta_file, ids, output_file):\n",
    "    \"\"\"\n",
    "    Extracts sequences matching the specified IDs and saves them to a new FASTA file.\n",
    "\n",
    "    Args:\n",
    "        fasta_file (str): Path to the input FASTA file\n",
    "        ids (list): List of sequence IDs to extract\n",
    "        output_file (str): Path to the output FASTA file\n",
    "    \"\"\"\n",
    "    print(f\"Extracting sequences matching the specified IDs from '{fasta_file}'...\")\n",
    "    sequences = [seq_record for seq_record in SeqIO.parse(fasta_file, \"fasta\") if seq_record.id in ids]\n",
    "    SeqIO.write(sequences, output_file, \"fasta\")\n",
    "    print(f\"Saved {len(sequences)} sequences to '{output_file}'.\\n\")\n",
    "\n",
    "def match_and_save_metadata(meta_mt_dataset, ids, output_file, id_column_name):\n",
    "    \"\"\"\n",
    "    Matches metadata for the specified IDs and saves it to a new CSV file.\n",
    "\n",
    "    Args:\n",
    "        meta_mt_dataset (DataFrame): Reich mt dataset metadata\n",
    "        ids (list): List of sequence IDs to match\n",
    "        output_file (str): Path to the output CSV file\n",
    "        id_column_name (str): Name of the column containing sequence IDs in the metadata\n",
    "    \"\"\"\n",
    "    print(f\"Matching metadata for the specified IDs and saving to '{output_file}'...\")\n",
    "    matched_metadata = meta_mt_dataset[meta_mt_dataset[id_column_name].isin(ids)]\n",
    "    matched_metadata.to_csv(output_file, sep=',', index=False)\n",
    "    print(f\"Saved metadata for {len(matched_metadata)} sequences to '{output_file}'.\\n\")\n",
    "\n",
    "def main():\n",
    "    \"\"\"\n",
    "    Main pipeline function.\n",
    "    \"\"\"\n",
    "    create_directories()\n",
    "    meta_amtDB, ids_seq_fasta_amtDB = load_data('data/amtDB/amtdb_metadata.csv', 'data/amtDB/amtdb_1621-samples_7f_a0pkh.fasta')\n",
    "    ids_mt_dataset, meta_mt_dataset = load_mt_dataset('data/mitogenomes_reich/mtdna_reich.fasta', 'data/mitogenomes_reich/v54.1.p1_1240K_public/v54.1.p1_1240K_public.anno')\n",
    "\n",
    "    missing_ids = find_missing_sequences(meta_amtDB, ids_seq_fasta_amtDB)\n",
    "    available_in_mt_dataset = set(ids_mt_dataset).intersection(set(missing_ids))\n",
    "\n",
    "    id_column_name = 'Master ID'\n",
    "    if available_in_mt_dataset:\n",
    "        extract_and_save_sequences('data/mitogenomes_reich/mtdna_reich.fasta', available_in_mt_dataset, f'output/sequences_missing_in_AmtDB_{len(available_in_mt_dataset)}.fasta')\n",
    "        match_and_save_metadata(meta_mt_dataset, available_in_mt_dataset, f'output/metadata_for_sequences_missing_in_AmtDB.csv', id_column_name)\n",
    "\n",
    "    not_in_amtDB = set(ids_mt_dataset) - set(meta_amtDB['identifier'])\n",
    "    if not_in_amtDB:\n",
    "        extract_and_save_sequences('data/mitogenomes_reich/mtdna_reich.fasta', not_in_amtDB, f'output/sequences_not_present_in_AmtDB_{len(not_in_amtDB)}.fasta')\n",
    "        match_and_save_metadata(meta_mt_dataset, not_in_amtDB, f'output/metadata_for_sequences_not_present_in_AmtDB.csv', id_column_name)\n",
    "        \n",
    "    print(\"Pipeline execution complete. Check the 'output' directory for results.\\n\")\n",
    "\n",
    "    \n",
    "    \n",
    "if __name__ == \"__main__\":\n",
    "    main()\n"
   ]
  },
  {
   "cell_type": "code",
   "execution_count": 23,
   "metadata": {},
   "outputs": [
    {
     "name": "stdout",
     "output_type": "stream",
     "text": [
      "Number of missing sequences: 404\n",
      "Number of metadata records for missing sequences: 431\n",
      "Number of sequences not present in AmtDB: 3004\n",
      "Number of metadata records for sequences not present in AmtDB: 2854\n"
     ]
    }
   ],
   "source": [
    "# load the output fasta file and check the number of sequences\n",
    "# load the output metadata file and check the number of records\n",
    "\n",
    "missing_seq = SeqIO.parse('output/sequences_missing_in_AmtDB_404.fasta', 'fasta')\n",
    "missing_seq_metadata = pd.read_csv('output/metadata_for_sequences_missing_in_AmtDB.csv')\n",
    "\n",
    "not_present_seq = SeqIO.parse('output/sequences_not_present_in_AmtDB_2996.fasta', 'fasta')\n",
    "not_present_seq_metadata = pd.read_csv('output/metadata_for_sequences_not_present_in_AmtDB.csv')\n",
    "\n",
    "print(f\"Number of missing sequences: {len(list(missing_seq))}\")\n",
    "print(f\"Number of metadata records for missing sequences: {len(missing_seq_metadata)}\")\n",
    "\n",
    "print(f\"Number of sequences not present in AmtDB: {len(list(not_present_seq))}\")\n",
    "print(f\"Number of metadata records for sequences not present in AmtDB: {len(not_present_seq_metadata)}\")\n"
   ]
  },
  {
   "cell_type": "code",
   "execution_count": 24,
   "metadata": {},
   "outputs": [],
   "source": [
    "# MASTER ID used for AADR\n",
    "\n",
    "# Function to load IDs from a CSV file\n",
    "def load_ids_from_csv(file_path):\n",
    "    \"\"\"\n",
    "    Load IDs from a CSV metadata file.\n",
    "    \"\"\"\n",
    "    df = pd.read_csv(file_path, sep=',', header=0) \n",
    "    return set(df['identifier'])\n",
    "\n",
    "# Function to load IDs from a anno file\n",
    "def load_ids_from_anno(file_path):\n",
    "    \"\"\"\n",
    "    Load IDs from a anno metadata file.\n",
    "    \"\"\"\n",
    "    df = pd.read_csv(file_path, sep='\\t', header=0, low_memory=False)\n",
    "    return set(df['Master ID'])\n",
    "\n",
    "# Function to load IDs from a FASTA file\n",
    "def load_ids_from_fasta(file_path):\n",
    "    \"\"\"\n",
    "    Load IDs from a FASTA file.\n",
    "    \"\"\"\n",
    "    return [seq_record.id for seq_record in SeqIO.parse(file_path, \"fasta\")]\n",
    "\n",
    "# Find missing sequences in FASTA given a set of expected IDs\n",
    "def find_missing_sequences(expected_ids, fasta_ids):\n",
    "    \"\"\"\n",
    "    Identifies expected IDs that are not present in the FASTA IDs.\n",
    "    \"\"\"\n",
    "    return expected_ids - fasta_ids\n",
    "\n",
    "def extract_and_save_sequences(fasta_file, ids, output_file):\n",
    "    \"\"\"\n",
    "    Extracts sequences matching specified IDs from a FASTA file. In case of duplicate IDs,\n",
    "    only the sequence with the longest length is kept. If lengths are equal, the first encountered\n",
    "    sequence is kept. Each ID will correspond to at most one sequence in the output FASTA, \n",
    "    ensuring the number of sequences matches the number of unique IDs provided.\n",
    "    \"\"\"\n",
    "    id_to_sequence = {}\n",
    "    for record in SeqIO.parse(fasta_file, \"fasta\"):\n",
    "        if record.id in ids:\n",
    "            if record.id not in id_to_sequence:\n",
    "                id_to_sequence[record.id] = record\n",
    "            else:\n",
    "                # If the ID is already present, check if the current sequence is longer\n",
    "                existing_record = id_to_sequence[record.id]\n",
    "                if len(record.seq) > len(existing_record.seq):\n",
    "                    id_to_sequence[record.id] = record\n",
    "                # If sequences are of the same length, do nothing (keep the existing)\n",
    "                # This ensures we only update if we find a longer sequence\n",
    "    \n",
    "    # Write the unique sequences to the output file\n",
    "    SeqIO.write(id_to_sequence.values(), output_file, \"fasta\")\n",
    "    \n",
    "\n",
    "# Match metadata for specified IDs and save to CSV AmtDB\n",
    "def match_and_save_metadata_amtdb(df, ids, output_file):\n",
    "    \"\"\"\n",
    "    Matches metadata for the specified IDs and saves it to a CSV file.\n",
    "    \"\"\"\n",
    "    matched_df = df[df['identifier'].isin(ids)]\n",
    "    matched_df.to_csv(output_file, index=False)\n",
    "    \n",
    "# Match metadata for specified IDs and save to CSV AADR\n",
    "def match_and_save_metadata_aadr(df, ids, output_file):\n",
    "    \"\"\"\n",
    "    Matches metadata for the specified IDs and saves it to a CSV file.\n",
    "    \"\"\"\n",
    "    matched_df = df[df['Master ID'].isin(ids)]\n",
    "    matched_df.to_csv(output_file, index=False)\n",
    "    "
   ]
  },
  {
   "cell_type": "code",
   "execution_count": 25,
   "metadata": {},
   "outputs": [],
   "source": [
    "# Load all IDs from both AmtDB and AADR databases.\n",
    "amtdb_ids_meta = load_ids_from_csv('data/amtDB/amtdb_metadata.csv')\n",
    "amtdb_ids_fasta = set(load_ids_from_fasta('data/amtDB/amtdb_1621-samples_7f_a0pkh.fasta'))\n",
    "amtdb_metadata_df = pd.read_csv('data/amtDB/amtdb_metadata.csv', sep=',', header=0)\n",
    "\n",
    "aadr_ids_meta = load_ids_from_anno('data/mitogenomes_reich/v54.1.p1_1240K_public/v54.1.p1_1240K_public.anno')\n",
    "aadr_ids_fasta = set(load_ids_from_fasta('data/mitogenomes_reich/mtdna_reich.fasta'))\n",
    "aadR_metadata_df = pd.read_csv('data/mitogenomes_reich/v54.1.p1_1240K_public/v54.1.p1_1240K_public.anno', sep='\\t', header=0, low_memory=False)\n"
   ]
  },
  {
   "cell_type": "code",
   "execution_count": 26,
   "metadata": {},
   "outputs": [
    {
     "name": "stdout",
     "output_type": "stream",
     "text": [
      "Number of amtdb_ids_meta: 2541\n",
      "Number of amtdb_ids_fasta: 1621\n",
      "Number of aadr_ids_meta: 13357\n",
      "Number of aadr_ids_fasta: 4114\n",
      "\n",
      "First five elements of amtdb_ids_meta: ['VAD003', 'RISE139', 'I7424', 'I5072', 'MX198']\n",
      "First five elements of amtdb_ids_fasta: ['I5072', 'MX198', 'LICOL49', 'LRV_103', 'Alh_3']\n",
      "First five elements of aadr_ids_meta: ['NA21133', 'ORE-A1', 'ETM014', 'Uattamdi1', 'HAD003']\n",
      "First five elements of aadr_ids_fasta: ['I7424', 'I5072', 'I6461', 'I3124', 'I2195']\n"
     ]
    }
   ],
   "source": [
    "for x, y in zip([amtdb_ids_meta, amtdb_ids_fasta, aadr_ids_meta, aadr_ids_fasta], ['amtdb_ids_meta', 'amtdb_ids_fasta', 'aadr_ids_meta', 'aadr_ids_fasta']):\n",
    "    print(f\"Number of {y}: {len(x)}\")\n",
    "    \n",
    "print(\"\")\n",
    "\n",
    "# print first five elements of each set\n",
    "for x, y in zip([amtdb_ids_meta, amtdb_ids_fasta, aadr_ids_meta, aadr_ids_fasta], ['amtdb_ids_meta', 'amtdb_ids_fasta', 'aadr_ids_meta', 'aadr_ids_fasta']):\n",
    "    print(f\"First five elements of {y}: {list(x)[:5]}\")\n",
    "    "
   ]
  },
  {
   "cell_type": "code",
   "execution_count": 27,
   "metadata": {},
   "outputs": [
    {
     "name": "stdout",
     "output_type": "stream",
     "text": [
      "Number of sequences missing internally in AmtDB: 920\n",
      "Number of sequences not present in AmtDB but present in AADR: 2996\n",
      "\n",
      "Number of missing sequences internally in AmtDB, but found in AADR: 404\n",
      "Number of metadata records for missing sequences: 561\n",
      "\n",
      "Number of sequences not present in AmtDB: 2996\n",
      "Number of metadata records for sequences not present in AmtDB: 2854\n"
     ]
    }
   ],
   "source": [
    "ids_of_sequences_missing_internally_in_AmtDB = amtdb_ids_meta - amtdb_ids_fasta\n",
    "ids_of_sequences_not_present_in_AmtDB = aadr_ids_fasta - amtdb_ids_meta  # sequences in AADR but not in AmtDB\n",
    "\n",
    "print(f\"Number of sequences missing internally in AmtDB: {len(ids_of_sequences_missing_internally_in_AmtDB)}\")\n",
    "print(f\"Number of sequences not present in AmtDB but present in AADR: {len(ids_of_sequences_not_present_in_AmtDB)}\\n\")\n",
    "\n",
    "# save the sequences and metadata\n",
    "extract_and_save_sequences('data/mitogenomes_reich/mtdna_reich.fasta', ids_of_sequences_missing_internally_in_AmtDB, 'output/sequences_missing_internally_in_AmtDB_masterID.fasta')\n",
    "match_and_save_metadata_aadr(aadR_metadata_df, ids_of_sequences_missing_internally_in_AmtDB, 'output/metadata_for_sequences_missing_internally_in_AmtDB_masterID.csv')\n",
    "\n",
    "extract_and_save_sequences('data/mitogenomes_reich/mtdna_reich.fasta', ids_of_sequences_not_present_in_AmtDB, 'output/sequences_not_present_in_AmtDB_masterID.fasta')\n",
    "match_and_save_metadata_aadr(aadR_metadata_df, ids_of_sequences_not_present_in_AmtDB, 'output/metadata_for_sequences_not_present_in_AmtDB_masterID.csv')\n",
    "\n",
    "# load the output fasta file and check the number of sequences\n",
    "# load the output metadata file and check the number of records\n",
    "\n",
    "missing_seq = SeqIO.parse('output/sequences_missing_internally_in_AmtDB_masterID.fasta', 'fasta')\n",
    "missing_seq_metadata = pd.read_csv('output/metadata_for_sequences_missing_internally_in_AmtDB_masterID.csv')\n",
    "\n",
    "not_present_seq = SeqIO.parse('output/sequences_not_present_in_AmtDB_masterID.fasta', 'fasta')\n",
    "not_present_seq_metadata = pd.read_csv('output/metadata_for_sequences_not_present_in_AmtDB_masterID.csv')\n",
    "\n",
    "print(f\"Number of missing sequences internally in AmtDB, but found in AADR: {len(list(missing_seq))}\")\n",
    "print(f\"Number of metadata records for missing sequences: {len(missing_seq_metadata)}\\n\")\n",
    "\n",
    "print(f\"Number of sequences not present in AmtDB: {len(list(not_present_seq))}\")\n",
    "print(f\"Number of metadata records for sequences not present in AmtDB: {len(not_present_seq_metadata)}\")\n"
   ]
  },
  {
   "cell_type": "code",
   "execution_count": 28,
   "metadata": {},
   "outputs": [
    {
     "name": "stdout",
     "output_type": "stream",
     "text": [
      "Lenght of aadr_ids_fasta: 4114\n",
      "Lenght of amtdb_ids_meta: 2541\n",
      "Lenght of ids_of_sequences_not_present_in_AmtDB: 2996\n"
     ]
    }
   ],
   "source": [
    "print(f'Lenght of aadr_ids_fasta: {len(aadr_ids_fasta)}')\n",
    "print(f'Lenght of amtdb_ids_meta: {len(amtdb_ids_meta)}')\n",
    "print(f'Lenght of ids_of_sequences_not_present_in_AmtDB: {len(ids_of_sequences_not_present_in_AmtDB)}')"
   ]
  },
  {
   "cell_type": "code",
   "execution_count": 29,
   "metadata": {},
   "outputs": [
    {
     "name": "stdout",
     "output_type": "stream",
     "text": [
      "Lenght of ids_unique_amtdb: 1423\n"
     ]
    }
   ],
   "source": [
    "ids_unique_amtdb = amtdb_ids_meta - aadr_ids_fasta\n",
    "print(f'Lenght of ids_unique_amtdb: {len(ids_unique_amtdb)}')"
   ]
  },
  {
   "cell_type": "code",
   "execution_count": 30,
   "metadata": {},
   "outputs": [
    {
     "name": "stdout",
     "output_type": "stream",
     "text": [
      "Lenght of ids_common: 1118\n"
     ]
    }
   ],
   "source": [
    "# prunik aadr_ids_fasta a amtdb_ids_meta\n",
    "ids_common = aadr_ids_fasta.intersection(amtdb_ids_meta)\n",
    "print(f'Lenght of ids_common: {len(ids_common)}')"
   ]
  },
  {
   "cell_type": "code",
   "execution_count": 31,
   "metadata": {},
   "outputs": [
    {
     "name": "stdout",
     "output_type": "stream",
     "text": [
      "Lenght of ids_all: 5537\n"
     ]
    }
   ],
   "source": [
    "# join two sets together aadr_ids_fasta and amtdb_ids_meta\n",
    "ids_all = aadr_ids_fasta.union(amtdb_ids_meta)\n",
    "print(f'Lenght of ids_all: {len(ids_all)}')\n",
    "\n"
   ]
  },
  {
   "cell_type": "code",
   "execution_count": 32,
   "metadata": {},
   "outputs": [
    {
     "name": "stdout",
     "output_type": "stream",
     "text": [
      "Lenght of ids_unique_aadr: 2996\n",
      "Lenght of ids_unique_amtdb: 1423\n"
     ]
    }
   ],
   "source": [
    "# difference of two sets\n",
    "ids_unique_aadr = aadr_ids_fasta - amtdb_ids_meta\n",
    "print(f'Lenght of ids_unique_aadr: {len(ids_unique_aadr)}')\n",
    "ids_unique_amtdb = amtdb_ids_meta - aadr_ids_fasta\n",
    "print(f'Lenght of ids_unique_amtdb: {len(ids_unique_amtdb)}')"
   ]
  },
  {
   "cell_type": "code",
   "execution_count": 33,
   "metadata": {},
   "outputs": [
    {
     "name": "stdout",
     "output_type": "stream",
     "text": [
      "Lenght of ids_all_together: 5537\n"
     ]
    }
   ],
   "source": [
    "ids_all_together = len(ids_unique_aadr) + len(ids_unique_amtdb) + len(ids_common)\n",
    "print(f'Lenght of ids_all_together: {ids_all_together}')"
   ]
  },
  {
   "cell_type": "code",
   "execution_count": 34,
   "metadata": {},
   "outputs": [
    {
     "name": "stdout",
     "output_type": "stream",
     "text": [
      "Lenght of aadr_ids_fasta: 4114\n",
      "Lenght of amtdb_ids_meta: 2541\n"
     ]
    }
   ],
   "source": [
    "print(f'Lenght of aadr_ids_fasta: {len(aadr_ids_fasta)}')\n",
    "print(f'Lenght of amtdb_ids_meta: {len(amtdb_ids_meta)}')"
   ]
  },
  {
   "cell_type": "code",
   "execution_count": 35,
   "metadata": {},
   "outputs": [
    {
     "name": "stdout",
     "output_type": "stream",
     "text": [
      "Number of sequences not present in AmtDB: 2996\n",
      "Number of unique sequences not present in AmtDB: 2996\n"
     ]
    }
   ],
   "source": [
    "not_present_seq = SeqIO.parse('output/sequences_not_present_in_AmtDB_masterID.fasta', 'fasta')\n",
    "# store the ids in a list and count them\n",
    "ids_list_not_present = []   \n",
    "for i, record in enumerate(not_present_seq):\n",
    "    ids_list_not_present.append(record.id)\n",
    "print(f\"Number of sequences not present in AmtDB: {len(ids_list_not_present)}\")\n",
    "# unique ids\n",
    "unique_ids_not_present = set(ids_list_not_present)\n",
    "print(f\"Number of unique sequences not present in AmtDB: {len(unique_ids_not_present)}\")"
   ]
  },
  {
   "cell_type": "code",
   "execution_count": 36,
   "metadata": {},
   "outputs": [
    {
     "name": "stdout",
     "output_type": "stream",
     "text": [
      "Count of records in ids_list_not_present 2996\n"
     ]
    }
   ],
   "source": [
    "# count the number of records in the metadata file\n",
    "print(f'Count of records in ids_list_not_present' , len(ids_list_not_present))\n",
    "# use counter for ids_list_not_present to count the number of occurences of each id\n",
    "from collections import Counter\n",
    "counter = Counter(ids_list_not_present)\n",
    "counter\n",
    "# find the ones with number > 1\n",
    "most_common_ids = counter.most_common()\n",
    "# most_common_ids"
   ]
  },
  {
   "cell_type": "code",
   "execution_count": 37,
   "metadata": {},
   "outputs": [
    {
     "data": {
      "text/plain": [
       "[]"
      ]
     },
     "execution_count": 37,
     "metadata": {},
     "output_type": "execute_result"
    }
   ],
   "source": [
    "# save to fasta file sequences with the most common ids\n",
    "most_common_ids_list = [x[0] for x in most_common_ids if x[1] > 1]\n",
    "most_common_ids_list"
   ]
  },
  {
   "cell_type": "code",
   "execution_count": 38,
   "metadata": {},
   "outputs": [
    {
     "name": "stdout",
     "output_type": "stream",
     "text": [
      "\n",
      "Total duplicate IDs: 0\n",
      "IDs with identical sequences: 0\n",
      "IDs with non-identical sequences: 0\n"
     ]
    }
   ],
   "source": [
    "\n",
    "def find_differences(seq1, seq2):\n",
    "    \"\"\"Find differences between two sequences.\"\"\"\n",
    "    return [i for i in range(min(len(seq1), len(seq2))) if seq1[i] != seq2[i]]\n",
    "\n",
    "def find_and_compare_duplicates(fasta_file):\n",
    "    sequences_by_id = defaultdict(list)\n",
    "    \n",
    "    for record in SeqIO.parse(fasta_file, 'fasta'):\n",
    "        sequences_by_id[record.id].append(str(record.seq))\n",
    "    \n",
    "    comparison_results = {}\n",
    "    differences_results = {}  # Store the positions of differences\n",
    "    \n",
    "    for id, sequences in sequences_by_id.items():\n",
    "        if len(sequences) > 1:\n",
    "            all_identical = all(seq == sequences[0] for seq in sequences)\n",
    "            comparison_results[id] = all_identical\n",
    "            if not all_identical:\n",
    "                # Find differences between the first sequence and the rest\n",
    "                differences = [find_differences(sequences[0], seq) for seq in sequences[1:]]\n",
    "                differences_results[id] = differences\n",
    "    \n",
    "    return comparison_results, differences_results\n",
    "\n",
    "fasta_file = 'output/most_common_ids.fasta'\n",
    "duplicated_sequences, differences_results = find_and_compare_duplicates(fasta_file)\n",
    "\n",
    "for id, are_sequences_identical in duplicated_sequences.items():\n",
    "    print(f'ID {id} has identical sequences: {are_sequences_identical}')\n",
    "    if not are_sequences_identical:\n",
    "        print(f'   Differences found at positions: {differences_results[id]}\\n')\n",
    "print(\"\")\n",
    "\n",
    "print(f'Total duplicate IDs: {len(duplicated_sequences)}')\n",
    "duplicate_count = sum(1 for identical in duplicated_sequences.values() if identical)\n",
    "print(f'IDs with identical sequences: {duplicate_count}')\n",
    "print(f'IDs with non-identical sequences: {len(duplicated_sequences) - duplicate_count}')\n"
   ]
  },
  {
   "cell_type": "code",
   "execution_count": 39,
   "metadata": {},
   "outputs": [],
   "source": [
    "extract_and_save_sequences('data/mitogenomes_reich/mtdna_reich.fasta', most_common_ids_list, 'output/most_common_ids.fasta')"
   ]
  },
  {
   "cell_type": "code",
   "execution_count": 40,
   "metadata": {},
   "outputs": [],
   "source": [
    "# load metadata_for_sequences_not_present_in_AmtDB_masterID.csv\n",
    "not_present_seq_metadata = pd.read_csv('output/metadata_for_sequences_not_present_in_AmtDB_masterID.csv')\n",
    "# not_present_seq_metadata"
   ]
  },
  {
   "cell_type": "code",
   "execution_count": 48,
   "metadata": {},
   "outputs": [
    {
     "ename": "SyntaxError",
     "evalue": "incomplete input (2041674165.py, line 1)",
     "output_type": "error",
     "traceback": [
      "\u001b[0;36m  Cell \u001b[0;32mIn[48], line 1\u001b[0;36m\u001b[0m\n\u001b[0;31m    \"\"\"Identifying and analyzing the frequency of unique sequence IDs not present in AmtDB, ordered by their counts.\u001b[0m\n\u001b[0m    ^\u001b[0m\n\u001b[0;31mSyntaxError\u001b[0m\u001b[0;31m:\u001b[0m incomplete input\n"
     ]
    }
   ],
   "source": [
    "\"\"\"\n",
    "Identifying and analyzing the frequency of unique sequence \n",
    "IDs not present in AmtDB, ordered by their counts.\"\"\"\n",
    "\n",
    "ids_of_sequences_not_present_in_AmtDB\n",
    "# from ids_of_sequences_not_present_in_AmtDB show unique IDs and their counts\n",
    "ids_of_sequences_not_present_in_AmtDB = list(ids_of_sequences_not_present_in_AmtDB)\n",
    "# and their counts\n",
    "from collections import Counter\n",
    "ids_of_sequences_not_present_in_AmtDB_counts = Counter(ids_of_sequences_not_present_in_AmtDB)\n",
    "ids_of_sequences_not_present_in_AmtDB_counts\n",
    "# order the dictionary by counts\n",
    "ids_of_sequences_not_present_in_AmtDB_counts = dict(sorted(ids_of_sequences_not_present_in_AmtDB_counts.items(), key=lambda item: item[1], reverse=True))\n",
    "# show first 5 elements from the dictionary\n",
    "ids_of_sequences_not_present_in_AmtDB_counts.popitem()"
   ]
  },
  {
   "cell_type": "markdown",
   "metadata": {},
   "source": [
    "The difference between number of found metadata for sequences is because of use of 'Master ID' and than 'Genetic ID' in some master ID's is visible .in_preparation added to 'Master ID'.\n",
    "And there are more entries of metadata for one sequence. For internally missing is better to use Master ID as identifier, and for sequences not present is better to use Genetic ID as identifier, for better metadata retrieval."
   ]
  },
  {
   "cell_type": "markdown",
   "metadata": {},
   "source": [
    "sequences_missing_internally_in_AmtDB_masterID.fasta\n",
    "\n",
    "metadata_for_sequences_missing_internally_in_AmtDB_masterID.csv\n",
    "\n",
    "sequences_not_present_in_AmtDB_geneticID.fasta\n",
    "\n",
    "metadata_for_sequences_not_present_in_AmtDB_geneticID.csv\n"
   ]
  },
  {
   "cell_type": "markdown",
   "metadata": {},
   "source": [
    "# EIGENSTRAT\n"
   ]
  },
  {
   "cell_type": "markdown",
   "metadata": {},
   "source": [
    "software/EIG/bin/smartpca.perl -i data/mitogenomes_reich/v54.1.p1_HO_public/v54.1.p1_HO_public.geno -a data/mitogenomes_reich/v54.1.p1_HO_public/v54.1.p1_HO_public.snp -b data/mitogenomes_reich/v54.1.p1_HO_public/v54.1.p1_HO_public.ind -k 10 -o output/v54.1.p1_HO_public.pca -p output/v54.1.p1_HO_public.plot -e output/v54.1.p1_HO_public.eval -l output/v54.1.p1_HO_public.log"
   ]
  }
 ],
 "metadata": {
  "kernelspec": {
   "display_name": "genui",
   "language": "python",
   "name": "python3"
  },
  "language_info": {
   "codemirror_mode": {
    "name": "ipython",
    "version": 3
   },
   "file_extension": ".py",
   "mimetype": "text/x-python",
   "name": "python",
   "nbconvert_exporter": "python",
   "pygments_lexer": "ipython3",
   "version": "3.12.2"
  }
 },
 "nbformat": 4,
 "nbformat_minor": 2
}
