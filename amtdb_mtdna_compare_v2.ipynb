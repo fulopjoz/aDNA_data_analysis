{
 "cells": [
  {
   "cell_type": "markdown",
   "metadata": {},
   "source": [
    "# Outline\n",
    "\n",
    "1. Environment Setup: Creating a conda environment and importing necessary libraries.\n",
    "2. Folder Creation: Setting up folders for input and output files.\n",
    "3. Data Loading: Loading metadata from a CSV file and sequence data from a FASTA file.\n",
    "4. ID Comparison: Identifying which IDs from the metadata are not present in the FASTA file.\n",
    "5. Sequence Retrieval: Loading another FASTA file and finding missing sequences for the identified IDs.\n",
    "6. Output: Saving the newly found sequences with their IDs to a new FASTA file."
   ]
  },
  {
   "cell_type": "markdown",
   "metadata": {},
   "source": [
    "  conda create -n ancient_dna_env python=3.8 biopython pandas matplotlib numpy jupyter ipython scipy seaborn -y\n"
   ]
  },
  {
   "cell_type": "code",
   "execution_count": 1,
   "metadata": {},
   "outputs": [],
   "source": [
    "# Importing necessary libraries for ancient mtDNA analysis\n",
    "from Bio import SeqIO\n",
    "import pandas as pd\n",
    "import os\n",
    "\n",
    "\n"
   ]
  },
  {
   "cell_type": "markdown",
   "metadata": {},
   "source": [
    "## Step 1: Folder Creation for Input and Output Files"
   ]
  },
  {
   "cell_type": "code",
   "execution_count": 2,
   "metadata": {},
   "outputs": [],
   "source": [
    "# Check and create folder for output files\n",
    "if not os.path.exists('output'):\n",
    "    os.makedirs('output')"
   ]
  },
  {
   "cell_type": "markdown",
   "metadata": {},
   "source": [
    "## Step 2: Data Loading"
   ]
  },
  {
   "cell_type": "code",
   "execution_count": 3,
   "metadata": {},
   "outputs": [],
   "source": [
    "# Load CSV metadata for ancient mtDNA\n",
    "meta_amtDB = pd.read_csv('data/amtDB/amtdb_metadata.csv', sep=',', header=0)\n",
    "# Display the first few rows of the metadata for verification\n",
    "meta_amtDB.head()\n",
    "\n",
    "# Extract 'identifier' column from the metadata\n",
    "identifiers_metadata = meta_amtDB['identifier'].tolist()\n",
    "\n",
    "# Load FASTA file with mtDNA sequences from amtDB\n",
    "ids_seq_fasta = [seq_record.id for seq_record in SeqIO.parse(\"data/amtDB/amtdb_1621-samples_7f_a0pkh.fasta\", \"fasta\")]\n"
   ]
  },
  {
   "cell_type": "markdown",
   "metadata": {},
   "source": [
    "## Step 3: ID Comparison"
   ]
  },
  {
   "cell_type": "code",
   "execution_count": 4,
   "metadata": {},
   "outputs": [],
   "source": [
    "# Compare IDs from metadata and FASTA file to find missing IDs in FASTA\n",
    "ids_metadata_not_in_fasta = [i for i in identifiers_metadata if i not in ids_seq_fasta]\n"
   ]
  },
  {
   "cell_type": "markdown",
   "metadata": {},
   "source": [
    "## Step 4: Sequence Retrieval"
   ]
  },
  {
   "cell_type": "code",
   "execution_count": 9,
   "metadata": {},
   "outputs": [],
   "source": [
    "# Load FASTA file with mtDNA sequences from another source (e.g., mtdna_reich)\n",
    "reich_ids_seq_fasta = [seq_record.id for seq_record in SeqIO.parse(\"data/mitogenomes_reich/mtdna_reich.fasta\", \"fasta\")]\n",
    "\n",
    "# Find IDs that are missing in the amtDB FASTA but present in the mtdna_reich FASTA\n",
    "ids_in_both = [i for i in ids_metadata_not_in_fasta if i in reich_ids_seq_fasta]\n"
   ]
  },
  {
   "cell_type": "code",
   "execution_count": 16,
   "metadata": {},
   "outputs": [],
   "source": [
    "# Load FASTA file with mtDNA sequences from another source reich\n",
    "reich_ids_seq_fasta = [seq_record.id for seq_record in SeqIO.parse(\"data/mitogenomes_reich/mtdna_reich.fasta\", \"fasta\")]\n",
    "\n",
    "# Find IDs that are missing in the amtDB FASTA but present in the mtdna_reich FASTA\n",
    "ids_in_both = [i for i in ids_metadata_not_in_fasta if i in reich_ids_seq_fasta]\n",
    "\n",
    "# retrieve the sequences from the mtdna_reich FASTA file\n",
    "reich_seqs = []\n",
    "for seq_record in SeqIO.parse(\"data/mitogenomes_reich/mtdna_reich.fasta\", \"fasta\"):\n",
    "    if seq_record.id in ids_in_both:\n",
    "        reich_seqs.append(seq_record.seq)\n",
    "        \n",
    "        "
   ]
  },
  {
   "cell_type": "markdown",
   "metadata": {},
   "source": [
    "## Step 5: Output New Sequences"
   ]
  },
  {
   "cell_type": "code",
   "execution_count": 23,
   "metadata": {},
   "outputs": [],
   "source": [
    "\n",
    "# There are 404 new sequences to add to our AmtDB\n",
    "# Create and save these sequences to a new FASTA file using reich_seqs and their corresponding IDs\n",
    "\n",
    "with open('output/new_sequences.fasta', 'w') as file:\n",
    "    for id in ids_in_both:\n",
    "        # Retrieve sequence for 'id' and write to the file\n",
    "        file.write(f\">{id}\\n{reich_seqs[ids_in_both.index(id)]}\\n\")"
   ]
  },
  {
   "cell_type": "code",
   "execution_count": 24,
   "metadata": {},
   "outputs": [
    {
     "name": "stdout",
     "output_type": "stream",
     "text": [
      "404\n"
     ]
    }
   ],
   "source": [
    "# show the number of new sequences\n",
    "print(len(ids_in_both))"
   ]
  }
 ],
 "metadata": {
  "kernelspec": {
   "display_name": "genui",
   "language": "python",
   "name": "python3"
  },
  "language_info": {
   "codemirror_mode": {
    "name": "ipython",
    "version": 3
   },
   "file_extension": ".py",
   "mimetype": "text/x-python",
   "name": "python",
   "nbconvert_exporter": "python",
   "pygments_lexer": "ipython3",
   "version": "3.8.18"
  }
 },
 "nbformat": 4,
 "nbformat_minor": 2
}
