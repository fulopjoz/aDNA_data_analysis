{
 "cells": [
  {
   "cell_type": "markdown",
   "metadata": {},
   "source": [
    "# Outline\n",
    "\n",
    "1. Environment Setup: Creating a conda environment and importing necessary libraries.\n",
    "2. Folder Creation: Setting up folders for input and output files.\n",
    "3. Data Loading: Loading metadata from a CSV file and sequence data from a FASTA file.\n",
    "4. ID Comparison: Identifying which IDs from the metadata are not present in the FASTA file.\n",
    "5. Sequence Retrieval: Loading another FASTA file and finding missing sequences for the identified IDs.\n",
    "6. Output: Saving the newly found sequences with their IDs to a new FASTA file."
   ]
  },
  {
   "cell_type": "markdown",
   "metadata": {},
   "source": [
    "  conda create -n ancient_dna_env python=3.8 biopython pandas matplotlib numpy jupyter ipython scipy seaborn -y\n"
   ]
  },
  {
   "cell_type": "code",
   "execution_count": 62,
   "metadata": {},
   "outputs": [],
   "source": [
    "# Importing necessary libraries for ancient mtDNA analysis\n",
    "from Bio import SeqIO\n",
    "import pandas as pd\n",
    "import os\n"
   ]
  },
  {
   "cell_type": "markdown",
   "metadata": {},
   "source": [
    "## Step 1: Folder Creation for Input and Output Files"
   ]
  },
  {
   "cell_type": "code",
   "execution_count": 63,
   "metadata": {},
   "outputs": [],
   "source": [
    "# Check and create folder for output files\n",
    "if not os.path.exists('output'):\n",
    "    os.makedirs('output')"
   ]
  },
  {
   "cell_type": "markdown",
   "metadata": {},
   "source": [
    "## Step 2: Data Loading"
   ]
  },
  {
   "cell_type": "code",
   "execution_count": 64,
   "metadata": {},
   "outputs": [],
   "source": [
    "# Load CSV metadata for ancient mtDNA\n",
    "meta_amtDB = pd.read_csv('data/amtDB/amtdb_metadata.csv', sep=',', header=0)\n",
    "# Display the first few rows of the metadata for verification\n",
    "meta_amtDB.head()\n",
    "\n",
    "# Extract 'identifier' column from the metadata\n",
    "identifiers_metadata = meta_amtDB['identifier'].tolist()\n",
    "\n",
    "# Load FASTA file with mtDNA sequences from amtDB\n",
    "ids_seq_fasta = [seq_record.id for seq_record in SeqIO.parse(\"data/amtDB/amtdb_1621-samples_7f_a0pkh.fasta\", \"fasta\")]\n"
   ]
  },
  {
   "cell_type": "markdown",
   "metadata": {},
   "source": [
    "## Step 3: ID Comparison"
   ]
  },
  {
   "cell_type": "code",
   "execution_count": 65,
   "metadata": {},
   "outputs": [],
   "source": [
    "# Compare IDs from metadata and FASTA file to find missing IDs in FASTA\n",
    "ids_metadata_not_in_fasta = [i for i in identifiers_metadata if i not in ids_seq_fasta]\n"
   ]
  },
  {
   "cell_type": "markdown",
   "metadata": {},
   "source": [
    "## Step 4: Sequence Retrieval"
   ]
  },
  {
   "cell_type": "code",
   "execution_count": 66,
   "metadata": {},
   "outputs": [],
   "source": [
    "# Load FASTA file with mtDNA sequences from another source (e.g., mtdna_reich)\n",
    "reich_ids_seq_fasta = [seq_record.id for seq_record in SeqIO.parse(\"data/mitogenomes_reich/mtdna_reich.fasta\", \"fasta\")]\n",
    "\n",
    "# Find IDs that are missing in the amtDB FASTA but present in the mtdna_reich FASTA\n",
    "ids_in_both = [i for i in ids_metadata_not_in_fasta if i in reich_ids_seq_fasta]\n"
   ]
  },
  {
   "cell_type": "code",
   "execution_count": 67,
   "metadata": {},
   "outputs": [],
   "source": [
    "# Load FASTA file with mtDNA sequences from another source reich\n",
    "reich_ids_seq_fasta = [seq_record.id for seq_record in SeqIO.parse(\"data/mitogenomes_reich/mtdna_reich.fasta\", \"fasta\")]\n",
    "\n",
    "# Find IDs that are missing in the amtDB FASTA but present in the mtdna_reich FASTA\n",
    "ids_in_both = [i for i in ids_metadata_not_in_fasta if i in reich_ids_seq_fasta]\n",
    "\n",
    "# retrieve the sequences from the mtdna_reich FASTA file\n",
    "reich_seqs = []\n",
    "for seq_record in SeqIO.parse(\"data/mitogenomes_reich/mtdna_reich.fasta\", \"fasta\"):\n",
    "    if seq_record.id in ids_in_both:\n",
    "        reich_seqs.append(seq_record.seq)\n",
    "        \n",
    "        "
   ]
  },
  {
   "cell_type": "markdown",
   "metadata": {},
   "source": [
    "## Step 5: Output New Sequences"
   ]
  },
  {
   "cell_type": "code",
   "execution_count": 68,
   "metadata": {},
   "outputs": [],
   "source": [
    "\n",
    "# There are 404 new sequences to add to our AmtDB\n",
    "# Create and save these sequences to a new FASTA file using reich_seqs and their corresponding IDs\n",
    "\n",
    "with open('output/new_sequences.fasta', 'w') as file:\n",
    "    for id in ids_in_both:\n",
    "        # Retrieve sequence for 'id' and write to the file\n",
    "        file.write(f\">{id}\\n{reich_seqs[ids_in_both.index(id)]}\\n\")"
   ]
  },
  {
   "cell_type": "code",
   "execution_count": 69,
   "metadata": {},
   "outputs": [
    {
     "name": "stdout",
     "output_type": "stream",
     "text": [
      "Number of new sequences: 404\n",
      "Number of new sequences in the fasta file: 404\n",
      "Number of new sequences in the fasta file using the fasta file: 404\n"
     ]
    }
   ],
   "source": [
    "# show the number of new sequences in the output\n",
    "print(f\"Number of new sequences: {len(ids_in_both)}\")\n",
    "\n",
    "# show the number of new sequences in the fasta file\n",
    "print(f\"Number of new sequences in the fasta file: {len(reich_seqs)}\")\n",
    "\n",
    "# show the number of new sequences in the fasta file using the fasta file\n",
    "with open('output/new_sequences.fasta', 'r') as file:\n",
    "    new_seqs = list(SeqIO.parse(file, 'fasta'))\n",
    "    print(f\"Number of new sequences in the fasta file using the fasta file: {len(new_seqs)}\")\n"
   ]
  },
  {
   "cell_type": "markdown",
   "metadata": {},
   "source": [
    "## Meatadata retrieval"
   ]
  },
  {
   "cell_type": "code",
   "execution_count": 70,
   "metadata": {},
   "outputs": [
    {
     "data": {
      "text/html": [
       "<div>\n",
       "<style scoped>\n",
       "    .dataframe tbody tr th:only-of-type {\n",
       "        vertical-align: middle;\n",
       "    }\n",
       "\n",
       "    .dataframe tbody tr th {\n",
       "        vertical-align: top;\n",
       "    }\n",
       "\n",
       "    .dataframe thead th {\n",
       "        text-align: right;\n",
       "    }\n",
       "</style>\n",
       "<table border=\"1\" class=\"dataframe\">\n",
       "  <thead>\n",
       "    <tr style=\"text-align: right;\">\n",
       "      <th></th>\n",
       "      <th>identifier</th>\n",
       "      <th>alternative_identifiers</th>\n",
       "      <th>country</th>\n",
       "      <th>continent</th>\n",
       "      <th>region</th>\n",
       "      <th>culture</th>\n",
       "      <th>epoch</th>\n",
       "      <th>group</th>\n",
       "      <th>comment</th>\n",
       "      <th>latitude</th>\n",
       "      <th>...</th>\n",
       "      <th>ychr_snps</th>\n",
       "      <th>avg_coverage</th>\n",
       "      <th>sequence_source</th>\n",
       "      <th>mitopatho_alleles</th>\n",
       "      <th>mitopatho_positions</th>\n",
       "      <th>mitopatho_locus</th>\n",
       "      <th>mitopatho_diseases</th>\n",
       "      <th>mitopatho_statuses</th>\n",
       "      <th>mitopatho_homoplasms</th>\n",
       "      <th>mitopatho_heteroplasms</th>\n",
       "    </tr>\n",
       "  </thead>\n",
       "  <tbody>\n",
       "    <tr>\n",
       "      <th>0</th>\n",
       "      <td>RISE509</td>\n",
       "      <td>1622</td>\n",
       "      <td>Russia</td>\n",
       "      <td>Asia</td>\n",
       "      <td>Altai</td>\n",
       "      <td>Afanasievo</td>\n",
       "      <td>Bronze Age</td>\n",
       "      <td>BARu</td>\n",
       "      <td>NaN</td>\n",
       "      <td>54.580002</td>\n",
       "      <td>...</td>\n",
       "      <td>NaN</td>\n",
       "      <td>0.0</td>\n",
       "      <td>bam</td>\n",
       "      <td>NaN</td>\n",
       "      <td>NaN</td>\n",
       "      <td>NaN</td>\n",
       "      <td>NaN</td>\n",
       "      <td>NaN</td>\n",
       "      <td>NaN</td>\n",
       "      <td>NaN</td>\n",
       "    </tr>\n",
       "    <tr>\n",
       "      <th>1</th>\n",
       "      <td>RISE510</td>\n",
       "      <td>NaN</td>\n",
       "      <td>Russia</td>\n",
       "      <td>Asia</td>\n",
       "      <td>Altai</td>\n",
       "      <td>Afanasievo</td>\n",
       "      <td>Bronze Age</td>\n",
       "      <td>BARu</td>\n",
       "      <td>NaN</td>\n",
       "      <td>54.580002</td>\n",
       "      <td>...</td>\n",
       "      <td>NaN</td>\n",
       "      <td>0.0</td>\n",
       "      <td>bam</td>\n",
       "      <td>12705T</td>\n",
       "      <td>12705</td>\n",
       "      <td>MT-CO1</td>\n",
       "      <td>Possible protective factor for normal tension ...</td>\n",
       "      <td>Reported</td>\n",
       "      <td>NaN</td>\n",
       "      <td>NaN</td>\n",
       "    </tr>\n",
       "    <tr>\n",
       "      <th>2</th>\n",
       "      <td>RISE511</td>\n",
       "      <td>NaN</td>\n",
       "      <td>Russia</td>\n",
       "      <td>Asia</td>\n",
       "      <td>Altai</td>\n",
       "      <td>Afanasievo</td>\n",
       "      <td>Bronze Age</td>\n",
       "      <td>BARu</td>\n",
       "      <td>NaN</td>\n",
       "      <td>54.580002</td>\n",
       "      <td>...</td>\n",
       "      <td>NaN</td>\n",
       "      <td>0.0</td>\n",
       "      <td>bam</td>\n",
       "      <td>10398G;12372A;9055A;11467G;12308G</td>\n",
       "      <td>10398;12372;9055;11467;12308</td>\n",
       "      <td>MT-ND3;MT-ND5;MT-ATP6;MT-ND4;MT-TL2</td>\n",
       "      <td>PD protective factor / longevity / altered cel...</td>\n",
       "      <td>Reported / lineage L &amp; M marker / also hg IJK;...</td>\n",
       "      <td>+;+;+;+;+</td>\n",
       "      <td>-;-;-;-;+</td>\n",
       "    </tr>\n",
       "    <tr>\n",
       "      <th>3</th>\n",
       "      <td>RISE507</td>\n",
       "      <td>NaN</td>\n",
       "      <td>Russia</td>\n",
       "      <td>Asia</td>\n",
       "      <td>Altai</td>\n",
       "      <td>Afanasievo</td>\n",
       "      <td>Bronze Age</td>\n",
       "      <td>BARu</td>\n",
       "      <td>NaN</td>\n",
       "      <td>51.500000</td>\n",
       "      <td>...</td>\n",
       "      <td>NaN</td>\n",
       "      <td>0.0</td>\n",
       "      <td>bam</td>\n",
       "      <td>4640A;11467G;12372A;150T;12308G</td>\n",
       "      <td>4640;11467;12372;150;12308</td>\n",
       "      <td>MT-ND2;MT-ND4;MT-ND5;MT-CR;MT-TL2</td>\n",
       "      <td>LHON / Epilepsy;Altered brain pH / sCJD patien...</td>\n",
       "      <td>Reported;Reported;Reported;Conflicting reports...</td>\n",
       "      <td>+;+;+;+;+</td>\n",
       "      <td>-;-;-;+;+</td>\n",
       "    </tr>\n",
       "    <tr>\n",
       "      <th>4</th>\n",
       "      <td>RISE508</td>\n",
       "      <td>NaN</td>\n",
       "      <td>Russia</td>\n",
       "      <td>Asia</td>\n",
       "      <td>Altai</td>\n",
       "      <td>Afanasievo</td>\n",
       "      <td>Bronze Age</td>\n",
       "      <td>BARu</td>\n",
       "      <td>NaN</td>\n",
       "      <td>51.500000</td>\n",
       "      <td>...</td>\n",
       "      <td>NaN</td>\n",
       "      <td>0.0</td>\n",
       "      <td>bam</td>\n",
       "      <td>12372A;12308G;13637G;11467G</td>\n",
       "      <td>12372;12308;13637;11467</td>\n",
       "      <td>MT-ND5;MT-TL2;MT-ND5;MT-ND4</td>\n",
       "      <td>Altered brain pH / sCJD patients;CPEO / Stroke...</td>\n",
       "      <td>Reported;Reported;Reported;Reported</td>\n",
       "      <td>+;+;+;+</td>\n",
       "      <td>-;+;-;-</td>\n",
       "    </tr>\n",
       "    <tr>\n",
       "      <th>...</th>\n",
       "      <td>...</td>\n",
       "      <td>...</td>\n",
       "      <td>...</td>\n",
       "      <td>...</td>\n",
       "      <td>...</td>\n",
       "      <td>...</td>\n",
       "      <td>...</td>\n",
       "      <td>...</td>\n",
       "      <td>...</td>\n",
       "      <td>...</td>\n",
       "      <td>...</td>\n",
       "      <td>...</td>\n",
       "      <td>...</td>\n",
       "      <td>...</td>\n",
       "      <td>...</td>\n",
       "      <td>...</td>\n",
       "      <td>...</td>\n",
       "      <td>...</td>\n",
       "      <td>...</td>\n",
       "      <td>...</td>\n",
       "      <td>...</td>\n",
       "    </tr>\n",
       "    <tr>\n",
       "      <th>2536</th>\n",
       "      <td>SX26</td>\n",
       "      <td>NaN</td>\n",
       "      <td>Switzerland</td>\n",
       "      <td>Europe</td>\n",
       "      <td>central Europe</td>\n",
       "      <td>Switzerland_Neolithic</td>\n",
       "      <td>Neolithic</td>\n",
       "      <td>NESw</td>\n",
       "      <td>Final Neolithic/Early Bronze Age</td>\n",
       "      <td>47.450001</td>\n",
       "      <td>...</td>\n",
       "      <td>NaN</td>\n",
       "      <td>0.0</td>\n",
       "      <td>reconstructed</td>\n",
       "      <td>NaN</td>\n",
       "      <td>NaN</td>\n",
       "      <td>NaN</td>\n",
       "      <td>NaN</td>\n",
       "      <td>NaN</td>\n",
       "      <td>NaN</td>\n",
       "      <td>NaN</td>\n",
       "    </tr>\n",
       "    <tr>\n",
       "      <th>2537</th>\n",
       "      <td>SX29</td>\n",
       "      <td>NaN</td>\n",
       "      <td>Switzerland</td>\n",
       "      <td>Europe</td>\n",
       "      <td>central Europe</td>\n",
       "      <td>Grossgartach</td>\n",
       "      <td>Neolithic</td>\n",
       "      <td>NESw</td>\n",
       "      <td>Middle neolithic</td>\n",
       "      <td>48.554459</td>\n",
       "      <td>...</td>\n",
       "      <td>NaN</td>\n",
       "      <td>0.0</td>\n",
       "      <td>reconstructed</td>\n",
       "      <td>NaN</td>\n",
       "      <td>NaN</td>\n",
       "      <td>NaN</td>\n",
       "      <td>NaN</td>\n",
       "      <td>NaN</td>\n",
       "      <td>NaN</td>\n",
       "      <td>NaN</td>\n",
       "    </tr>\n",
       "    <tr>\n",
       "      <th>2538</th>\n",
       "      <td>SX30</td>\n",
       "      <td>NaN</td>\n",
       "      <td>Switzerland</td>\n",
       "      <td>Europe</td>\n",
       "      <td>central Europe</td>\n",
       "      <td>Grossgartach</td>\n",
       "      <td>Neolithic</td>\n",
       "      <td>NESw</td>\n",
       "      <td>Middle neolithic</td>\n",
       "      <td>48.554459</td>\n",
       "      <td>...</td>\n",
       "      <td>NaN</td>\n",
       "      <td>0.0</td>\n",
       "      <td>reconstructed</td>\n",
       "      <td>NaN</td>\n",
       "      <td>NaN</td>\n",
       "      <td>NaN</td>\n",
       "      <td>NaN</td>\n",
       "      <td>NaN</td>\n",
       "      <td>NaN</td>\n",
       "      <td>NaN</td>\n",
       "    </tr>\n",
       "    <tr>\n",
       "      <th>2539</th>\n",
       "      <td>SX32</td>\n",
       "      <td>NaN</td>\n",
       "      <td>Switzerland</td>\n",
       "      <td>Europe</td>\n",
       "      <td>central Europe</td>\n",
       "      <td>Rubane</td>\n",
       "      <td>Neolithic</td>\n",
       "      <td>NESw</td>\n",
       "      <td>Middle neolithic</td>\n",
       "      <td>48.554459</td>\n",
       "      <td>...</td>\n",
       "      <td>NaN</td>\n",
       "      <td>0.0</td>\n",
       "      <td>reconstructed</td>\n",
       "      <td>NaN</td>\n",
       "      <td>NaN</td>\n",
       "      <td>NaN</td>\n",
       "      <td>NaN</td>\n",
       "      <td>NaN</td>\n",
       "      <td>NaN</td>\n",
       "      <td>NaN</td>\n",
       "    </tr>\n",
       "    <tr>\n",
       "      <th>2540</th>\n",
       "      <td>SX33</td>\n",
       "      <td>NaN</td>\n",
       "      <td>Switzerland</td>\n",
       "      <td>Europe</td>\n",
       "      <td>central Europe</td>\n",
       "      <td>Grossgartach</td>\n",
       "      <td>Neolithic</td>\n",
       "      <td>NESw</td>\n",
       "      <td>Middle neolithic</td>\n",
       "      <td>48.554459</td>\n",
       "      <td>...</td>\n",
       "      <td>NaN</td>\n",
       "      <td>0.0</td>\n",
       "      <td>reconstructed</td>\n",
       "      <td>NaN</td>\n",
       "      <td>NaN</td>\n",
       "      <td>NaN</td>\n",
       "      <td>NaN</td>\n",
       "      <td>NaN</td>\n",
       "      <td>NaN</td>\n",
       "      <td>NaN</td>\n",
       "    </tr>\n",
       "  </tbody>\n",
       "</table>\n",
       "<p>2541 rows × 36 columns</p>\n",
       "</div>"
      ],
      "text/plain": [
       "     identifier alternative_identifiers      country continent  \\\n",
       "0       RISE509                    1622       Russia      Asia   \n",
       "1       RISE510                     NaN       Russia      Asia   \n",
       "2       RISE511                     NaN       Russia      Asia   \n",
       "3       RISE507                     NaN       Russia      Asia   \n",
       "4       RISE508                     NaN       Russia      Asia   \n",
       "...         ...                     ...          ...       ...   \n",
       "2536       SX26                     NaN  Switzerland    Europe   \n",
       "2537       SX29                     NaN  Switzerland    Europe   \n",
       "2538       SX30                     NaN  Switzerland    Europe   \n",
       "2539       SX32                     NaN  Switzerland    Europe   \n",
       "2540       SX33                     NaN  Switzerland    Europe   \n",
       "\n",
       "              region                culture       epoch group  \\\n",
       "0              Altai             Afanasievo  Bronze Age  BARu   \n",
       "1              Altai             Afanasievo  Bronze Age  BARu   \n",
       "2              Altai             Afanasievo  Bronze Age  BARu   \n",
       "3              Altai             Afanasievo  Bronze Age  BARu   \n",
       "4              Altai             Afanasievo  Bronze Age  BARu   \n",
       "...              ...                    ...         ...   ...   \n",
       "2536  central Europe  Switzerland_Neolithic   Neolithic  NESw   \n",
       "2537  central Europe           Grossgartach   Neolithic  NESw   \n",
       "2538  central Europe           Grossgartach   Neolithic  NESw   \n",
       "2539  central Europe                 Rubane   Neolithic  NESw   \n",
       "2540  central Europe           Grossgartach   Neolithic  NESw   \n",
       "\n",
       "                               comment   latitude  ...  ychr_snps  \\\n",
       "0                                  NaN  54.580002  ...        NaN   \n",
       "1                                  NaN  54.580002  ...        NaN   \n",
       "2                                  NaN  54.580002  ...        NaN   \n",
       "3                                  NaN  51.500000  ...        NaN   \n",
       "4                                  NaN  51.500000  ...        NaN   \n",
       "...                                ...        ...  ...        ...   \n",
       "2536  Final Neolithic/Early Bronze Age  47.450001  ...        NaN   \n",
       "2537                  Middle neolithic  48.554459  ...        NaN   \n",
       "2538                  Middle neolithic  48.554459  ...        NaN   \n",
       "2539                  Middle neolithic  48.554459  ...        NaN   \n",
       "2540                  Middle neolithic  48.554459  ...        NaN   \n",
       "\n",
       "     avg_coverage sequence_source                  mitopatho_alleles  \\\n",
       "0             0.0             bam                                NaN   \n",
       "1             0.0             bam                             12705T   \n",
       "2             0.0             bam  10398G;12372A;9055A;11467G;12308G   \n",
       "3             0.0             bam    4640A;11467G;12372A;150T;12308G   \n",
       "4             0.0             bam        12372A;12308G;13637G;11467G   \n",
       "...           ...             ...                                ...   \n",
       "2536          0.0   reconstructed                                NaN   \n",
       "2537          0.0   reconstructed                                NaN   \n",
       "2538          0.0   reconstructed                                NaN   \n",
       "2539          0.0   reconstructed                                NaN   \n",
       "2540          0.0   reconstructed                                NaN   \n",
       "\n",
       "               mitopatho_positions                      mitopatho_locus  \\\n",
       "0                              NaN                                  NaN   \n",
       "1                            12705                               MT-CO1   \n",
       "2     10398;12372;9055;11467;12308  MT-ND3;MT-ND5;MT-ATP6;MT-ND4;MT-TL2   \n",
       "3       4640;11467;12372;150;12308    MT-ND2;MT-ND4;MT-ND5;MT-CR;MT-TL2   \n",
       "4          12372;12308;13637;11467          MT-ND5;MT-TL2;MT-ND5;MT-ND4   \n",
       "...                            ...                                  ...   \n",
       "2536                           NaN                                  NaN   \n",
       "2537                           NaN                                  NaN   \n",
       "2538                           NaN                                  NaN   \n",
       "2539                           NaN                                  NaN   \n",
       "2540                           NaN                                  NaN   \n",
       "\n",
       "                                     mitopatho_diseases  \\\n",
       "0                                                   NaN   \n",
       "1     Possible protective factor for normal tension ...   \n",
       "2     PD protective factor / longevity / altered cel...   \n",
       "3     LHON / Epilepsy;Altered brain pH / sCJD patien...   \n",
       "4     Altered brain pH / sCJD patients;CPEO / Stroke...   \n",
       "...                                                 ...   \n",
       "2536                                                NaN   \n",
       "2537                                                NaN   \n",
       "2538                                                NaN   \n",
       "2539                                                NaN   \n",
       "2540                                                NaN   \n",
       "\n",
       "                                     mitopatho_statuses mitopatho_homoplasms  \\\n",
       "0                                                   NaN                  NaN   \n",
       "1                                              Reported                  NaN   \n",
       "2     Reported / lineage L & M marker / also hg IJK;...            +;+;+;+;+   \n",
       "3     Reported;Reported;Reported;Conflicting reports...            +;+;+;+;+   \n",
       "4                   Reported;Reported;Reported;Reported              +;+;+;+   \n",
       "...                                                 ...                  ...   \n",
       "2536                                                NaN                  NaN   \n",
       "2537                                                NaN                  NaN   \n",
       "2538                                                NaN                  NaN   \n",
       "2539                                                NaN                  NaN   \n",
       "2540                                                NaN                  NaN   \n",
       "\n",
       "     mitopatho_heteroplasms  \n",
       "0                       NaN  \n",
       "1                       NaN  \n",
       "2                 -;-;-;-;+  \n",
       "3                 -;-;-;+;+  \n",
       "4                   -;+;-;-  \n",
       "...                     ...  \n",
       "2536                    NaN  \n",
       "2537                    NaN  \n",
       "2538                    NaN  \n",
       "2539                    NaN  \n",
       "2540                    NaN  \n",
       "\n",
       "[2541 rows x 36 columns]"
      ]
     },
     "execution_count": 70,
     "metadata": {},
     "output_type": "execute_result"
    }
   ],
   "source": [
    "# using meta_amtDB \n",
    "meta_amtDB"
   ]
  },
  {
   "cell_type": "code",
   "execution_count": 71,
   "metadata": {},
   "outputs": [
    {
     "name": "stdout",
     "output_type": "stream",
     "text": [
      "<class 'pandas.core.frame.DataFrame'>\n",
      "RangeIndex: 2541 entries, 0 to 2540\n",
      "Data columns (total 36 columns):\n",
      " #   Column                   Non-Null Count  Dtype  \n",
      "---  ------                   --------------  -----  \n",
      " 0   identifier               2541 non-null   object \n",
      " 1   alternative_identifiers  2031 non-null   object \n",
      " 2   country                  2541 non-null   object \n",
      " 3   continent                2541 non-null   object \n",
      " 4   region                   2541 non-null   object \n",
      " 5   culture                  2541 non-null   object \n",
      " 6   epoch                    2541 non-null   object \n",
      " 7   group                    2541 non-null   object \n",
      " 8   comment                  668 non-null    object \n",
      " 9   latitude                 2541 non-null   float64\n",
      " 10  longitude                2541 non-null   float64\n",
      " 11  sex                      2541 non-null   object \n",
      " 12  site                     2541 non-null   object \n",
      " 13  site_detail              293 non-null    object \n",
      " 14  mt_hg                    2452 non-null   object \n",
      " 15  ychr_hg                  953 non-null    object \n",
      " 16  year_from                2541 non-null   int64  \n",
      " 17  year_to                  2541 non-null   int64  \n",
      " 18  date_detail              2424 non-null   object \n",
      " 19  bp                       1023 non-null   object \n",
      " 20  c14_lab_code             892 non-null    object \n",
      " 21  reference_name           2541 non-null   object \n",
      " 22  reference_link           2541 non-null   object \n",
      " 23  data_link                2492 non-null   object \n",
      " 24  c14_sample_tag           2541 non-null   int64  \n",
      " 25  c14_layer_tag            2541 non-null   int64  \n",
      " 26  ychr_snps                320 non-null    object \n",
      " 27  avg_coverage             2541 non-null   float64\n",
      " 28  sequence_source          2189 non-null   object \n",
      " 29  mitopatho_alleles        1278 non-null   object \n",
      " 30  mitopatho_positions      1278 non-null   object \n",
      " 31  mitopatho_locus          1278 non-null   object \n",
      " 32  mitopatho_diseases       1278 non-null   object \n",
      " 33  mitopatho_statuses       1278 non-null   object \n",
      " 34  mitopatho_homoplasms     1223 non-null   object \n",
      " 35  mitopatho_heteroplasms   1223 non-null   object \n",
      "dtypes: float64(3), int64(4), object(29)\n",
      "memory usage: 714.8+ KB\n"
     ]
    }
   ],
   "source": [
    "meta_amtDB.info()"
   ]
  },
  {
   "cell_type": "code",
   "execution_count": 72,
   "metadata": {},
   "outputs": [],
   "source": [
    "# load metadata from reich data\n",
    "meta_reich_ind = pd.read_csv('data/mitogenomes_reich/v54.1.p1_1240K_public/v54.1.p1_1240K_public.ind', sep='\\t', header=None)"
   ]
  },
  {
   "cell_type": "code",
   "execution_count": 73,
   "metadata": {},
   "outputs": [
    {
     "data": {
      "text/html": [
       "<div>\n",
       "<style scoped>\n",
       "    .dataframe tbody tr th:only-of-type {\n",
       "        vertical-align: middle;\n",
       "    }\n",
       "\n",
       "    .dataframe tbody tr th {\n",
       "        vertical-align: top;\n",
       "    }\n",
       "\n",
       "    .dataframe thead th {\n",
       "        text-align: right;\n",
       "    }\n",
       "</style>\n",
       "<table border=\"1\" class=\"dataframe\">\n",
       "  <thead>\n",
       "    <tr style=\"text-align: right;\">\n",
       "      <th></th>\n",
       "      <th>0</th>\n",
       "    </tr>\n",
       "  </thead>\n",
       "  <tbody>\n",
       "    <tr>\n",
       "      <th>0</th>\n",
       "      <td>Ne30_genotyping_noUDG M China_AmurRiver_EarlyN</td>\n",
       "    </tr>\n",
       "    <tr>\n",
       "      <th>1</th>\n",
       "      <td>Ne61_genotyping_noUDG U China_AmurRiver_BA</td>\n",
       "    </tr>\n",
       "    <tr>\n",
       "      <th>2</th>\n",
       "      <td>Ne35_genotyping_noUDG F China_AmurRiver_EarlyN</td>\n",
       "    </tr>\n",
       "    <tr>\n",
       "      <th>3</th>\n",
       "      <td>I17622 M Albania_BA_IA_lc</td>\n",
       "    </tr>\n",
       "    <tr>\n",
       "      <th>4</th>\n",
       "      <td>I13833 M Albania_EarlyModern_oCa...</td>\n",
       "    </tr>\n",
       "    <tr>\n",
       "      <th>...</th>\n",
       "      <td>...</td>\n",
       "    </tr>\n",
       "    <tr>\n",
       "      <th>16384</th>\n",
       "      <td>I19456_v54.1_addback M Bulgaria_EBA</td>\n",
       "    </tr>\n",
       "    <tr>\n",
       "      <th>16385</th>\n",
       "      <td>S1944.E1.L3_v54.1_addback F Iran_GanjDareh_N</td>\n",
       "    </tr>\n",
       "    <tr>\n",
       "      <th>16386</th>\n",
       "      <td>S1951.E1.L3_v54.1_addback F Iran_GanjDareh_N</td>\n",
       "    </tr>\n",
       "    <tr>\n",
       "      <th>16387</th>\n",
       "      <td>S7241.E1.L1_v54.1_addback M Vietnam_N_all</td>\n",
       "    </tr>\n",
       "    <tr>\n",
       "      <th>16388</th>\n",
       "      <td>I1877_v54.1_addback M Hungary_EN_Starcevo_2_all</td>\n",
       "    </tr>\n",
       "  </tbody>\n",
       "</table>\n",
       "<p>16389 rows × 1 columns</p>\n",
       "</div>"
      ],
      "text/plain": [
       "                                                       0\n",
       "0         Ne30_genotyping_noUDG M China_AmurRiver_EarlyN\n",
       "1             Ne61_genotyping_noUDG U China_AmurRiver_BA\n",
       "2         Ne35_genotyping_noUDG F China_AmurRiver_EarlyN\n",
       "3                              I17622 M Albania_BA_IA_lc\n",
       "4                    I13833 M Albania_EarlyModern_oCa...\n",
       "...                                                  ...\n",
       "16384                I19456_v54.1_addback M Bulgaria_EBA\n",
       "16385       S1944.E1.L3_v54.1_addback F Iran_GanjDareh_N\n",
       "16386       S1951.E1.L3_v54.1_addback F Iran_GanjDareh_N\n",
       "16387          S7241.E1.L1_v54.1_addback M Vietnam_N_all\n",
       "16388    I1877_v54.1_addback M Hungary_EN_Starcevo_2_all\n",
       "\n",
       "[16389 rows x 1 columns]"
      ]
     },
     "execution_count": 73,
     "metadata": {},
     "output_type": "execute_result"
    }
   ],
   "source": [
    "meta_reich_ind"
   ]
  },
  {
   "cell_type": "code",
   "execution_count": 74,
   "metadata": {},
   "outputs": [
    {
     "name": "stderr",
     "output_type": "stream",
     "text": [
      "/tmp/ipykernel_13843/947846549.py:1: DtypeWarning: Columns (14,15,18,26,29,30) have mixed types. Specify dtype option on import or set low_memory=False.\n",
      "  meta_reich_anno_1240 = pd.read_csv('data/mitogenomes_reich/v54.1.p1_1240K_public/v54.1.p1_1240K_public.anno', sep='\\t', header=0)\n"
     ]
    }
   ],
   "source": [
    "meta_reich_anno_1240 = pd.read_csv('data/mitogenomes_reich/v54.1.p1_1240K_public/v54.1.p1_1240K_public.anno', sep='\\t', header=0)"
   ]
  },
  {
   "cell_type": "code",
   "execution_count": 75,
   "metadata": {},
   "outputs": [
    {
     "name": "stderr",
     "output_type": "stream",
     "text": [
      "/tmp/ipykernel_13843/3300889883.py:1: DtypeWarning: Columns (20) have mixed types. Specify dtype option on import or set low_memory=False.\n",
      "  meta_reich_anno_HO = pd.read_csv('data/mitogenomes_reich/v54.1.p1_HO_public/v54.1.p1_HO_public.anno', sep='\\t', header=0)\n"
     ]
    }
   ],
   "source": [
    "meta_reich_anno_HO = pd.read_csv('data/mitogenomes_reich/v54.1.p1_HO_public/v54.1.p1_HO_public.anno', sep='\\t', header=0)"
   ]
  },
  {
   "cell_type": "code",
   "execution_count": 76,
   "metadata": {},
   "outputs": [
    {
     "data": {
      "text/html": [
       "<div>\n",
       "<style scoped>\n",
       "    .dataframe tbody tr th:only-of-type {\n",
       "        vertical-align: middle;\n",
       "    }\n",
       "\n",
       "    .dataframe tbody tr th {\n",
       "        vertical-align: top;\n",
       "    }\n",
       "\n",
       "    .dataframe thead th {\n",
       "        text-align: right;\n",
       "    }\n",
       "</style>\n",
       "<table border=\"1\" class=\"dataframe\">\n",
       "  <thead>\n",
       "    <tr style=\"text-align: right;\">\n",
       "      <th></th>\n",
       "      <th>Genetic ID</th>\n",
       "      <th>Master ID</th>\n",
       "      <th>Skeletal code</th>\n",
       "      <th>Skeletal element</th>\n",
       "      <th>Year data from this individual was first published [for a present-day individuals we give the data of the data reported here; missing GreenScience 2010 (Vi33.15, Vi33.26), Olalde2018 (I2657), RasmussenNature2010 (Australian)]</th>\n",
       "      <th>Publication</th>\n",
       "      <th>Method for Determining Date; unless otherwise specified, calibrations use 95.4% intervals from OxCal v4.4.2 Bronk Ramsey (2009); r5; Atmospheric data from Reimer et al (2020)</th>\n",
       "      <th>Date mean in BP in years before 1950 CE [OxCal mu for a direct radiocarbon date, and average of range for a contextual date]</th>\n",
       "      <th>Date standard deviation in BP [OxCal sigma for a direct radiocarbon date, and standard deviation of the uniform distribution between the two bounds for a contextual date]</th>\n",
       "      <th>Full Date One of two formats. (Format 1) 95.4% CI calibrated radiocarbon age (Conventional Radiocarbon Age BP, Lab number) e.g. 2624-2350 calBCE (3990±40 BP, Ua-35016). (Format 2) Archaeological context range, e.g. 2500-1700 BCE</th>\n",
       "      <th>...</th>\n",
       "      <th>Y haplogroup (manual curation in ISOGG format)</th>\n",
       "      <th>mtDNA coverage (merged data)</th>\n",
       "      <th>mtDNA haplogroup if &gt;2x or published</th>\n",
       "      <th>mtDNA match to consensus if &gt;2x (merged data)</th>\n",
       "      <th>Damage rate in first nucleotide on sequences overlapping 1240k targets (merged data)</th>\n",
       "      <th>Sex ratio [Y/(Y+X) counts] (merged data)</th>\n",
       "      <th>Library type (minus=no.damage.correction, half=damage.retained.at.last.position, plus=damage.fully.corrected, ds=double.stranded.library.preparation, ss=single.stranded.library.preparation)</th>\n",
       "      <th>Libraries</th>\n",
       "      <th>ASSESSMENT</th>\n",
       "      <th>ASSESSMENT WARNINGS (Xcontam interval is listed if lower bound is &gt;0.005, \"QUESTIONABLE\" if lower bound is 0.01-0.02, \"QUESTIONABLE_CRITICAL\" or \"FAIL\" if lower bound is &gt;0.02) (mtcontam confidence interval is listed if coverage &gt;2 and upper bound is &lt;0.</th>\n",
       "    </tr>\n",
       "  </thead>\n",
       "  <tbody>\n",
       "    <tr>\n",
       "      <th>0</th>\n",
       "      <td>Ne30_genotyping_noUDG</td>\n",
       "      <td>NE30</td>\n",
       "      <td>AR9.9K_2d.rel.NE-4_deleted</td>\n",
       "      <td>..</td>\n",
       "      <td>2021</td>\n",
       "      <td>MaoFuCell2021</td>\n",
       "      <td>Direct IntCal20</td>\n",
       "      <td>9896</td>\n",
       "      <td>121</td>\n",
       "      <td>8175-7750 calBCE (8825±30 BP, BA-152174)</td>\n",
       "      <td>...</td>\n",
       "      <td>C</td>\n",
       "      <td>99</td>\n",
       "      <td>D4m</td>\n",
       "      <td>..</td>\n",
       "      <td>12</td>\n",
       "      <td>..</td>\n",
       "      <td>ss.minus</td>\n",
       "      <td>HRR163270</td>\n",
       "      <td>PASS</td>\n",
       "      <td>..</td>\n",
       "    </tr>\n",
       "  </tbody>\n",
       "</table>\n",
       "<p>1 rows × 35 columns</p>\n",
       "</div>"
      ],
      "text/plain": [
       "              Genetic ID Master ID               Skeletal code  \\\n",
       "0  Ne30_genotyping_noUDG      NE30  AR9.9K_2d.rel.NE-4_deleted   \n",
       "\n",
       "  Skeletal element  \\\n",
       "0               ..   \n",
       "\n",
       "  Year data from this individual was first published [for a present-day individuals we give the data of the data reported here; missing GreenScience 2010 (Vi33.15, Vi33.26), Olalde2018 (I2657), RasmussenNature2010 (Australian)]  \\\n",
       "0                                               2021                                                                                                                                                                                  \n",
       "\n",
       "     Publication  \\\n",
       "0  MaoFuCell2021   \n",
       "\n",
       "  Method for Determining Date; unless otherwise specified, calibrations use 95.4% intervals from OxCal v4.4.2 Bronk Ramsey (2009); r5; Atmospheric data from Reimer et al (2020)  \\\n",
       "0                                    Direct IntCal20                                                                                                                               \n",
       "\n",
       "   Date mean in BP in years before 1950 CE [OxCal mu for a direct radiocarbon date, and average of range for a contextual date]  \\\n",
       "0                                               9896                                                                              \n",
       "\n",
       "   Date standard deviation in BP [OxCal sigma for a direct radiocarbon date, and standard deviation of the uniform distribution between the two bounds for a contextual date]  \\\n",
       "0                                                121                                                                                                                            \n",
       "\n",
       "  Full Date One of two formats. (Format 1) 95.4% CI calibrated radiocarbon age (Conventional Radiocarbon Age BP, Lab number) e.g. 2624-2350 calBCE (3990±40 BP, Ua-35016). (Format 2) Archaeological context range, e.g. 2500-1700 BCE  \\\n",
       "0           8175-7750 calBCE (8825±30 BP, BA-152174)                                                                                                                                                                                     \n",
       "\n",
       "   ... Y haplogroup (manual curation in ISOGG format)  \\\n",
       "0  ...                                              C   \n",
       "\n",
       "  mtDNA coverage (merged data) mtDNA haplogroup if >2x or published  \\\n",
       "0                           99                                  D4m   \n",
       "\n",
       "  mtDNA match to consensus if >2x (merged data)  \\\n",
       "0                                            ..   \n",
       "\n",
       "  Damage rate in first nucleotide on sequences overlapping 1240k targets (merged data)  \\\n",
       "0                                                 12                                     \n",
       "\n",
       "  Sex ratio [Y/(Y+X) counts] (merged data)  \\\n",
       "0                                       ..   \n",
       "\n",
       "  Library type (minus=no.damage.correction, half=damage.retained.at.last.position, plus=damage.fully.corrected, ds=double.stranded.library.preparation, ss=single.stranded.library.preparation)  \\\n",
       "0                                           ss.minus                                                                                                                                              \n",
       "\n",
       "   Libraries ASSESSMENT  \\\n",
       "0  HRR163270       PASS   \n",
       "\n",
       "  ASSESSMENT WARNINGS (Xcontam interval is listed if lower bound is >0.005, \"QUESTIONABLE\" if lower bound is 0.01-0.02, \"QUESTIONABLE_CRITICAL\" or \"FAIL\" if lower bound is >0.02) (mtcontam confidence interval is listed if coverage >2 and upper bound is <0.  \n",
       "0                                                 ..                                                                                                                                                                                                              \n",
       "\n",
       "[1 rows x 35 columns]"
      ]
     },
     "execution_count": 76,
     "metadata": {},
     "output_type": "execute_result"
    }
   ],
   "source": [
    "meta_reich_anno_1240.head(1)"
   ]
  },
  {
   "cell_type": "code",
   "execution_count": 77,
   "metadata": {
    "notebookRunGroups": {
     "groupValue": ""
    }
   },
   "outputs": [
    {
     "data": {
      "text/html": [
       "<div>\n",
       "<style scoped>\n",
       "    .dataframe tbody tr th:only-of-type {\n",
       "        vertical-align: middle;\n",
       "    }\n",
       "\n",
       "    .dataframe tbody tr th {\n",
       "        vertical-align: top;\n",
       "    }\n",
       "\n",
       "    .dataframe thead th {\n",
       "        text-align: right;\n",
       "    }\n",
       "</style>\n",
       "<table border=\"1\" class=\"dataframe\">\n",
       "  <thead>\n",
       "    <tr style=\"text-align: right;\">\n",
       "      <th></th>\n",
       "      <th>Genetic ID</th>\n",
       "      <th>Master ID</th>\n",
       "      <th>Skeletal code</th>\n",
       "      <th>Skeletal element</th>\n",
       "      <th>Year data from this individual was first published [for a present-day individuals we give the data of the data reported here; missing GreenScience 2010 (Vi33.15, Vi33.26), Olalde2018 (I2657), RasmussenNature2010 (Australian)]</th>\n",
       "      <th>Publication</th>\n",
       "      <th>Method for Determining Date; unless otherwise specified, calibrations use 95.4% intervals from OxCal v4.4.2 Bronk Ramsey (2009); r5; Atmospheric data from Reimer et al (2020)</th>\n",
       "      <th>Date mean in BP in years before 1950 CE [OxCal mu for a direct radiocarbon date, and average of range for a contextual date]</th>\n",
       "      <th>Date standard deviation in BP [OxCal sigma for a direct radiocarbon date, and standard deviation of the uniform distribution between the two bounds for a contextual date]</th>\n",
       "      <th>Full Date One of two formats. (Format 1) 95.4% CI calibrated radiocarbon age (Conventional Radiocarbon Age BP, Lab number) e.g. 2624-2350 calBCE (3990±40 BP, Ua-35016). (Format 2) Archaeological context range, e.g. 2500-1700 BCE</th>\n",
       "      <th>...</th>\n",
       "      <th>Y haplogroup (manual curation in ISOGG format)</th>\n",
       "      <th>mtDNA coverage (merged data)</th>\n",
       "      <th>mtDNA haplogroup if &gt;2x or published</th>\n",
       "      <th>mtDNA match to consensus if &gt;2x (merged data)</th>\n",
       "      <th>Damage rate in first nucleotide on sequences overlapping 1240k targets (merged data)</th>\n",
       "      <th>Sex ratio [Y/(Y+X) counts] (merged data)</th>\n",
       "      <th>Library type (minus=no.damage.correction, half=damage.retained.at.last.position, plus=damage.fully.corrected, ds=double.stranded.library.preparation, ss=single.stranded.library.preparation)</th>\n",
       "      <th>Libraries</th>\n",
       "      <th>ASSESSMENT</th>\n",
       "      <th>ASSESSMENT WARNINGS (Xcontam interval is listed if lower bound is &gt;0.005, \"QUESTIONABLE\" if lower bound is 0.01-0.02, \"QUESTIONABLE_CRITICAL\" or \"FAIL\" if lower bound is &gt;0.02) (mtcontam confidence interval is listed if coverage &gt;2 and upper bound is &lt;0.</th>\n",
       "    </tr>\n",
       "  </thead>\n",
       "  <tbody>\n",
       "    <tr>\n",
       "      <th>0</th>\n",
       "      <td>I001.HO</td>\n",
       "      <td>I001</td>\n",
       "      <td>..</td>\n",
       "      <td>..</td>\n",
       "      <td>2016</td>\n",
       "      <td>BroushakiScience2016</td>\n",
       "      <td>Modern</td>\n",
       "      <td>0</td>\n",
       "      <td>0</td>\n",
       "      <td>present</td>\n",
       "      <td>...</td>\n",
       "      <td>..</td>\n",
       "      <td>..</td>\n",
       "      <td>..</td>\n",
       "      <td>..</td>\n",
       "      <td>..</td>\n",
       "      <td>..</td>\n",
       "      <td>..</td>\n",
       "      <td>..</td>\n",
       "      <td>PASS</td>\n",
       "      <td>..</td>\n",
       "    </tr>\n",
       "  </tbody>\n",
       "</table>\n",
       "<p>1 rows × 35 columns</p>\n",
       "</div>"
      ],
      "text/plain": [
       "  Genetic ID Master ID Skeletal code Skeletal element  \\\n",
       "0    I001.HO      I001            ..               ..   \n",
       "\n",
       "  Year data from this individual was first published [for a present-day individuals we give the data of the data reported here; missing GreenScience 2010 (Vi33.15, Vi33.26), Olalde2018 (I2657), RasmussenNature2010 (Australian)]  \\\n",
       "0                                               2016                                                                                                                                                                                  \n",
       "\n",
       "            Publication  \\\n",
       "0  BroushakiScience2016   \n",
       "\n",
       "  Method for Determining Date; unless otherwise specified, calibrations use 95.4% intervals from OxCal v4.4.2 Bronk Ramsey (2009); r5; Atmospheric data from Reimer et al (2020)  \\\n",
       "0                                             Modern                                                                                                                               \n",
       "\n",
       "   Date mean in BP in years before 1950 CE [OxCal mu for a direct radiocarbon date, and average of range for a contextual date]  \\\n",
       "0                                                  0                                                                              \n",
       "\n",
       "   Date standard deviation in BP [OxCal sigma for a direct radiocarbon date, and standard deviation of the uniform distribution between the two bounds for a contextual date]  \\\n",
       "0                                                  0                                                                                                                            \n",
       "\n",
       "  Full Date One of two formats. (Format 1) 95.4% CI calibrated radiocarbon age (Conventional Radiocarbon Age BP, Lab number) e.g. 2624-2350 calBCE (3990±40 BP, Ua-35016). (Format 2) Archaeological context range, e.g. 2500-1700 BCE  \\\n",
       "0                                            present                                                                                                                                                                                     \n",
       "\n",
       "   ... Y haplogroup (manual curation in ISOGG format)  \\\n",
       "0  ...                                             ..   \n",
       "\n",
       "  mtDNA coverage (merged data) mtDNA haplogroup if >2x or published  \\\n",
       "0                           ..                                   ..   \n",
       "\n",
       "  mtDNA match to consensus if >2x (merged data)  \\\n",
       "0                                            ..   \n",
       "\n",
       "  Damage rate in first nucleotide on sequences overlapping 1240k targets (merged data)  \\\n",
       "0                                                 ..                                     \n",
       "\n",
       "  Sex ratio [Y/(Y+X) counts] (merged data)  \\\n",
       "0                                       ..   \n",
       "\n",
       "  Library type (minus=no.damage.correction, half=damage.retained.at.last.position, plus=damage.fully.corrected, ds=double.stranded.library.preparation, ss=single.stranded.library.preparation)  \\\n",
       "0                                                 ..                                                                                                                                              \n",
       "\n",
       "  Libraries ASSESSMENT  \\\n",
       "0        ..       PASS   \n",
       "\n",
       "  ASSESSMENT WARNINGS (Xcontam interval is listed if lower bound is >0.005, \"QUESTIONABLE\" if lower bound is 0.01-0.02, \"QUESTIONABLE_CRITICAL\" or \"FAIL\" if lower bound is >0.02) (mtcontam confidence interval is listed if coverage >2 and upper bound is <0.  \n",
       "0                                                 ..                                                                                                                                                                                                              \n",
       "\n",
       "[1 rows x 35 columns]"
      ]
     },
     "execution_count": 77,
     "metadata": {},
     "output_type": "execute_result"
    }
   ],
   "source": [
    "meta_reich_anno_HO.head(1)"
   ]
  },
  {
   "cell_type": "code",
   "execution_count": 78,
   "metadata": {},
   "outputs": [
    {
     "data": {
      "text/plain": [
       "Index(['Genetic ID', 'Master ID', 'Skeletal code', 'Skeletal element',\n",
       "       'Year data from this individual was first published [for a present-day individuals we give the data of the data reported here; missing GreenScience 2010 (Vi33.15, Vi33.26), Olalde2018 (I2657), RasmussenNature2010 (Australian)]',\n",
       "       'Publication',\n",
       "       'Method for Determining Date; unless otherwise specified, calibrations use 95.4% intervals from OxCal v4.4.2 Bronk Ramsey (2009); r5; Atmospheric data from Reimer et al (2020)',\n",
       "       'Date mean in BP in years before 1950 CE [OxCal mu for a direct radiocarbon date, and average of range for a contextual date]',\n",
       "       'Date standard deviation in BP [OxCal sigma for a direct radiocarbon date, and standard deviation of the uniform distribution between the two bounds for a contextual date]',\n",
       "       'Full Date One of two formats. (Format 1) 95.4% CI calibrated radiocarbon age (Conventional Radiocarbon Age BP, Lab number) e.g. 2624-2350 calBCE (3990±40 BP, Ua-35016). (Format 2) Archaeological context range, e.g. 2500-1700 BCE',\n",
       "       'Age at Death from physical anthropology', 'Group ID', 'Locality',\n",
       "       'Political Entity', 'Lat.', 'Long.', 'Pulldown Strategy', 'Data source',\n",
       "       'No. Libraries',\n",
       "       '1240k coverage (taken from original pulldown where possible)',\n",
       "       'SNPs hit on autosomal targets (Computed using easystats on 1240k snpset)',\n",
       "       'SNPs hit on autosomal targets (Computed using easystats on HO snpset)',\n",
       "       'Molecular Sex', 'Family ID and position within family',\n",
       "       'Y haplogroup (manual curation in terminal mutation format)',\n",
       "       'Y haplogroup (manual curation in ISOGG format)',\n",
       "       'mtDNA coverage (merged data)', 'mtDNA haplogroup if >2x or published',\n",
       "       'mtDNA match to consensus if >2x (merged data)',\n",
       "       'Damage rate in first nucleotide on sequences overlapping 1240k targets (merged data)',\n",
       "       'Sex ratio [Y/(Y+X) counts] (merged data)',\n",
       "       'Library type (minus=no.damage.correction, half=damage.retained.at.last.position, plus=damage.fully.corrected, ds=double.stranded.library.preparation, ss=single.stranded.library.preparation)',\n",
       "       'Libraries', 'ASSESSMENT',\n",
       "       'ASSESSMENT WARNINGS (Xcontam interval is listed if lower bound is >0.005, \"QUESTIONABLE\" if lower bound is 0.01-0.02, \"QUESTIONABLE_CRITICAL\" or \"FAIL\" if lower bound is >0.02) (mtcontam confidence interval is listed if coverage >2 and upper bound is <0.'],\n",
       "      dtype='object')"
      ]
     },
     "execution_count": 78,
     "metadata": {},
     "output_type": "execute_result"
    }
   ],
   "source": [
    "meta_reich_anno_1240.columns"
   ]
  },
  {
   "cell_type": "code",
   "execution_count": 79,
   "metadata": {},
   "outputs": [
    {
     "data": {
      "text/plain": [
       "Index(['Genetic ID', 'Master ID', 'Skeletal code', 'Skeletal element',\n",
       "       'Year data from this individual was first published [for a present-day individuals we give the data of the data reported here; missing GreenScience 2010 (Vi33.15, Vi33.26), Olalde2018 (I2657), RasmussenNature2010 (Australian)]',\n",
       "       'Publication',\n",
       "       'Method for Determining Date; unless otherwise specified, calibrations use 95.4% intervals from OxCal v4.4.2 Bronk Ramsey (2009); r5; Atmospheric data from Reimer et al (2020)',\n",
       "       'Date mean in BP in years before 1950 CE [OxCal mu for a direct radiocarbon date, and average of range for a contextual date]',\n",
       "       'Date standard deviation in BP [OxCal sigma for a direct radiocarbon date, and standard deviation of the uniform distribution between the two bounds for a contextual date]',\n",
       "       'Full Date One of two formats. (Format 1) 95.4% CI calibrated radiocarbon age (Conventional Radiocarbon Age BP, Lab number) e.g. 2624-2350 calBCE (3990±40 BP, Ua-35016). (Format 2) Archaeological context range, e.g. 2500-1700 BCE',\n",
       "       'Age at Death from physical anthropology', 'Group ID', 'Locality',\n",
       "       'Political Entity', 'Lat.', 'Long.', 'Pulldown Strategy', 'Data source',\n",
       "       'No. Libraries',\n",
       "       '1240k coverage (taken from original pulldown where possible)',\n",
       "       'SNPs hit on autosomal targets (Computed using easystats on 1240k snpset)',\n",
       "       'SNPs hit on autosomal targets (Computed using easystats on HO snpset)',\n",
       "       'Molecular Sex', 'Family ID and position within family',\n",
       "       'Y haplogroup (manual curation in terminal mutation format)',\n",
       "       'Y haplogroup (manual curation in ISOGG format)',\n",
       "       'mtDNA coverage (merged data)', 'mtDNA haplogroup if >2x or published',\n",
       "       'mtDNA match to consensus if >2x (merged data)',\n",
       "       'Damage rate in first nucleotide on sequences overlapping 1240k targets (merged data)',\n",
       "       'Sex ratio [Y/(Y+X) counts] (merged data)',\n",
       "       'Library type (minus=no.damage.correction, half=damage.retained.at.last.position, plus=damage.fully.corrected, ds=double.stranded.library.preparation, ss=single.stranded.library.preparation)',\n",
       "       'Libraries', 'ASSESSMENT',\n",
       "       'ASSESSMENT WARNINGS (Xcontam interval is listed if lower bound is >0.005, \"QUESTIONABLE\" if lower bound is 0.01-0.02, \"QUESTIONABLE_CRITICAL\" or \"FAIL\" if lower bound is >0.02) (mtcontam confidence interval is listed if coverage >2 and upper bound is <0.'],\n",
       "      dtype='object')"
      ]
     },
     "execution_count": 79,
     "metadata": {},
     "output_type": "execute_result"
    }
   ],
   "source": [
    "meta_reich_anno_HO.columns"
   ]
  },
  {
   "cell_type": "code",
   "execution_count": 80,
   "metadata": {},
   "outputs": [
    {
     "data": {
      "text/plain": [
       "Index(['identifier', 'alternative_identifiers', 'country', 'continent',\n",
       "       'region', 'culture', 'epoch', 'group', 'comment', 'latitude',\n",
       "       'longitude', 'sex', 'site', 'site_detail', 'mt_hg', 'ychr_hg',\n",
       "       'year_from', 'year_to', 'date_detail', 'bp', 'c14_lab_code',\n",
       "       'reference_name', 'reference_link', 'data_link', 'c14_sample_tag',\n",
       "       'c14_layer_tag', 'ychr_snps', 'avg_coverage', 'sequence_source',\n",
       "       'mitopatho_alleles', 'mitopatho_positions', 'mitopatho_locus',\n",
       "       'mitopatho_diseases', 'mitopatho_statuses', 'mitopatho_homoplasms',\n",
       "       'mitopatho_heteroplasms'],\n",
       "      dtype='object')"
      ]
     },
     "execution_count": 80,
     "metadata": {},
     "output_type": "execute_result"
    }
   ],
   "source": [
    "meta_amtDB.columns"
   ]
  },
  {
   "cell_type": "code",
   "execution_count": 81,
   "metadata": {},
   "outputs": [
    {
     "data": {
      "text/plain": [
       "{'Genetic ID': 'Ne30_genotyping_noUDG',\n",
       " 'Master ID': 'NE30',\n",
       " 'Skeletal code': 'AR9.9K_2d.rel.NE-4_deleted',\n",
       " 'Skeletal element': '..',\n",
       " 'Year data from this individual was first published [for a present-day individuals we give the data of the data reported here; missing GreenScience 2010 (Vi33.15, Vi33.26), Olalde2018 (I2657), RasmussenNature2010 (Australian)]': '2021',\n",
       " 'Publication': 'MaoFuCell2021',\n",
       " 'Method for Determining Date; unless otherwise specified, calibrations use 95.4% intervals from OxCal v4.4.2 Bronk Ramsey (2009); r5; Atmospheric data from Reimer et al (2020)': 'Direct IntCal20',\n",
       " 'Date mean in BP in years before 1950 CE [OxCal mu for a direct radiocarbon date, and average of range for a contextual date]': 9896,\n",
       " 'Date standard deviation in BP [OxCal sigma for a direct radiocarbon date, and standard deviation of the uniform distribution between the two bounds for a contextual date]': 121,\n",
       " 'Full Date One of two formats. (Format 1) 95.4% CI calibrated radiocarbon age (Conventional Radiocarbon Age BP, Lab number) e.g. 2624-2350 calBCE (3990±40 BP, Ua-35016). (Format 2) Archaeological context range, e.g. 2500-1700 BCE': '8175-7750 calBCE (8825±30 BP, BA-152174)',\n",
       " 'Age at Death from physical anthropology': '..',\n",
       " 'Group ID': 'China_AmurRiver_EarlyN',\n",
       " 'Locality': 'Nepal, Kathmandu',\n",
       " 'Political Entity': 'China',\n",
       " 'Lat.': '45.96',\n",
       " 'Long.': '126.23',\n",
       " 'Pulldown Strategy': 'Repulldown on 3.2M snpset',\n",
       " 'Data source': '1240K',\n",
       " 'No. Libraries': '1',\n",
       " '1240k coverage (taken from original pulldown where possible)': '0.431935',\n",
       " 'SNPs hit on autosomal targets (Computed using easystats on 1240k snpset)': 590693,\n",
       " 'SNPs hit on autosomal targets (Computed using easystats on HO snpset)': 590693,\n",
       " 'Molecular Sex': 'M',\n",
       " 'Family ID and position within family': 'Amur River Basin Family A (2 Members) \\\\E4-NE30 have a 2d relationship',\n",
       " 'Y haplogroup (manual curation in terminal mutation format)': '..',\n",
       " 'Y haplogroup (manual curation in ISOGG format)': 'C',\n",
       " 'mtDNA coverage (merged data)': '99',\n",
       " 'mtDNA haplogroup if >2x or published': 'D4m',\n",
       " 'mtDNA match to consensus if >2x (merged data)': '..',\n",
       " 'Damage rate in first nucleotide on sequences overlapping 1240k targets (merged data)': '12',\n",
       " 'Sex ratio [Y/(Y+X) counts] (merged data)': '..',\n",
       " 'Library type (minus=no.damage.correction, half=damage.retained.at.last.position, plus=damage.fully.corrected, ds=double.stranded.library.preparation, ss=single.stranded.library.preparation)': 'ss.minus',\n",
       " 'Libraries': 'HRR163270',\n",
       " 'ASSESSMENT': 'PASS',\n",
       " 'ASSESSMENT WARNINGS (Xcontam interval is listed if lower bound is >0.005, \"QUESTIONABLE\" if lower bound is 0.01-0.02, \"QUESTIONABLE_CRITICAL\" or \"FAIL\" if lower bound is >0.02) (mtcontam confidence interval is listed if coverage >2 and upper bound is <0.': '..'}"
      ]
     },
     "execution_count": 81,
     "metadata": {},
     "output_type": "execute_result"
    }
   ],
   "source": [
    "# create a dictionary of the metadata key-value pairs column names and their corresponding values but just for the first row\n",
    "meta_reich_anno_dict_1240 = meta_reich_anno_1240.iloc[0].to_dict()\n",
    "meta_reich_anno_dict_1240"
   ]
  },
  {
   "cell_type": "code",
   "execution_count": 82,
   "metadata": {},
   "outputs": [
    {
     "data": {
      "text/plain": [
       "{'Genetic ID': 'I001.HO',\n",
       " 'Master ID': 'I001',\n",
       " 'Skeletal code': '..',\n",
       " 'Skeletal element': '..',\n",
       " 'Year data from this individual was first published [for a present-day individuals we give the data of the data reported here; missing GreenScience 2010 (Vi33.15, Vi33.26), Olalde2018 (I2657), RasmussenNature2010 (Australian)]': '2016',\n",
       " 'Publication': 'BroushakiScience2016',\n",
       " 'Method for Determining Date; unless otherwise specified, calibrations use 95.4% intervals from OxCal v4.4.2 Bronk Ramsey (2009); r5; Atmospheric data from Reimer et al (2020)': 'Modern',\n",
       " 'Date mean in BP in years before 1950 CE [OxCal mu for a direct radiocarbon date, and average of range for a contextual date]': 0,\n",
       " 'Date standard deviation in BP [OxCal sigma for a direct radiocarbon date, and standard deviation of the uniform distribution between the two bounds for a contextual date]': 0,\n",
       " 'Full Date One of two formats. (Format 1) 95.4% CI calibrated radiocarbon age (Conventional Radiocarbon Age BP, Lab number) e.g. 2624-2350 calBCE (3990±40 BP, Ua-35016). (Format 2) Archaeological context range, e.g. 2500-1700 BCE': 'present',\n",
       " 'Age at Death from physical anthropology': '..',\n",
       " 'Group ID': 'Ignore_Iran_Zoroastrian_PCA_outlier.HO',\n",
       " 'Locality': 'Isfahan',\n",
       " 'Political Entity': 'Iran',\n",
       " 'Lat.': '32.647836',\n",
       " 'Long.': '51.655097',\n",
       " 'Pulldown Strategy': '1240K pulldown padded to 3.2M snpset',\n",
       " 'Data source': 'HumanOrigins',\n",
       " 'No. Libraries': '..',\n",
       " '1240k coverage (taken from original pulldown where possible)': '..',\n",
       " 'SNPs hit on autosomal targets (Computed using easystats on 1240k snpset)': '..',\n",
       " 'SNPs hit on autosomal targets (Computed using easystats on HO snpset)': 585451,\n",
       " 'Molecular Sex': 'M',\n",
       " 'Family ID and position within family': '..',\n",
       " 'Y haplogroup (manual curation in terminal mutation format)': '..',\n",
       " 'Y haplogroup (manual curation in ISOGG format)': '..',\n",
       " 'mtDNA coverage (merged data)': '..',\n",
       " 'mtDNA haplogroup if >2x or published': '..',\n",
       " 'mtDNA match to consensus if >2x (merged data)': '..',\n",
       " 'Damage rate in first nucleotide on sequences overlapping 1240k targets (merged data)': '..',\n",
       " 'Sex ratio [Y/(Y+X) counts] (merged data)': '..',\n",
       " 'Library type (minus=no.damage.correction, half=damage.retained.at.last.position, plus=damage.fully.corrected, ds=double.stranded.library.preparation, ss=single.stranded.library.preparation)': '..',\n",
       " 'Libraries': '..',\n",
       " 'ASSESSMENT': 'PASS',\n",
       " 'ASSESSMENT WARNINGS (Xcontam interval is listed if lower bound is >0.005, \"QUESTIONABLE\" if lower bound is 0.01-0.02, \"QUESTIONABLE_CRITICAL\" or \"FAIL\" if lower bound is >0.02) (mtcontam confidence interval is listed if coverage >2 and upper bound is <0.': '..'}"
      ]
     },
     "execution_count": 82,
     "metadata": {},
     "output_type": "execute_result"
    }
   ],
   "source": [
    "# create a dictionary of the metadata key-value pairs column names and their corresponding values but just for the first row\n",
    "meta_reich_anno_dict_HO = meta_reich_anno_HO.iloc[0].to_dict()\n",
    "meta_reich_anno_dict_HO"
   ]
  },
  {
   "cell_type": "code",
   "execution_count": 83,
   "metadata": {},
   "outputs": [],
   "source": [
    "# extract column Master ID from meta_reich_anno and save it to a list\n",
    "master_id_anno_reich_1240 = meta_reich_anno_1240['Master ID'].tolist()"
   ]
  },
  {
   "cell_type": "code",
   "execution_count": 84,
   "metadata": {},
   "outputs": [],
   "source": [
    "master_id_anno_reich_HO = meta_reich_anno_HO['Master ID'].tolist()"
   ]
  },
  {
   "cell_type": "code",
   "execution_count": 85,
   "metadata": {},
   "outputs": [
    {
     "data": {
      "text/plain": [
       "['NE30', 'NE61', 'NE35', 'I17622', 'I13833']"
      ]
     },
     "execution_count": 85,
     "metadata": {},
     "output_type": "execute_result"
    }
   ],
   "source": [
    "master_id_anno_reich_1240[:5]"
   ]
  },
  {
   "cell_type": "code",
   "execution_count": 91,
   "metadata": {},
   "outputs": [
    {
     "data": {
      "text/plain": [
       "['I001', 'I002', 'IREJ-T006', 'IREJ-T009', 'IREJ-T022']"
      ]
     },
     "execution_count": 91,
     "metadata": {},
     "output_type": "execute_result"
    }
   ],
   "source": [
    "master_id_anno_reich_HO[:5]"
   ]
  },
  {
   "cell_type": "code",
   "execution_count": 87,
   "metadata": {},
   "outputs": [],
   "source": [
    "# extract column identifier from meta_amtDB and save it to a list\n",
    "identifier_meta_amtDB = meta_amtDB['identifier'].tolist()"
   ]
  },
  {
   "cell_type": "code",
   "execution_count": 88,
   "metadata": {},
   "outputs": [
    {
     "data": {
      "text/plain": [
       "['RISE509', 'RISE510', 'RISE511', 'RISE507', 'RISE508']"
      ]
     },
     "execution_count": 88,
     "metadata": {},
     "output_type": "execute_result"
    }
   ],
   "source": [
    "identifier_meta_amtDB[:5]"
   ]
  },
  {
   "cell_type": "code",
   "execution_count": 89,
   "metadata": {},
   "outputs": [],
   "source": [
    "# check for duplicates in each list\n",
    "duplicates_amtDB = [i for i in identifier_meta_amtDB if identifier_meta_amtDB.count(i) > 1]\n",
    "duplicates_reich_1240 = [i for i in master_id_anno_reich_1240 if master_id_anno_reich_1240.count(i) > 1]\n",
    "duplicates_reich_HO = [i for i in master_id_anno_reich_HO if master_id_anno_reich_HO.count(i) > 1]"
   ]
  },
  {
   "cell_type": "code",
   "execution_count": 90,
   "metadata": {},
   "outputs": [
    {
     "name": "stdout",
     "output_type": "stream",
     "text": [
      "0 6000 8023\n"
     ]
    }
   ],
   "source": [
    "print(len(duplicates_amtDB), len(duplicates_reich_1240), len(duplicates_reich_HO))\n"
   ]
  },
  {
   "cell_type": "code",
   "execution_count": 93,
   "metadata": {},
   "outputs": [
    {
     "name": "stdout",
     "output_type": "stream",
     "text": [
      "2541 13357 16290\n"
     ]
    }
   ],
   "source": [
    "# just unique identifiers\n",
    "unique_identifier_meta_amtDB = set(identifier_meta_amtDB)\n",
    "unique_master_id_anno_reich_1240 = set(master_id_anno_reich_1240)\n",
    "unique_master_id_anno_reich_HO = set(master_id_anno_reich_HO)\n",
    "\n",
    "print(len(unique_identifier_meta_amtDB), len(unique_master_id_anno_reich_1240), len(unique_master_id_anno_reich_HO))"
   ]
  }
 ],
 "metadata": {
  "kernelspec": {
   "display_name": "genui",
   "language": "python",
   "name": "python3"
  },
  "language_info": {
   "codemirror_mode": {
    "name": "ipython",
    "version": 3
   },
   "file_extension": ".py",
   "mimetype": "text/x-python",
   "name": "python",
   "nbconvert_exporter": "python",
   "pygments_lexer": "ipython3",
   "version": "3.8.18"
  }
 },
 "nbformat": 4,
 "nbformat_minor": 2
}
